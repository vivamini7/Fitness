{
  "nbformat": 4,
  "nbformat_minor": 0,
  "metadata": {
    "colab": {
      "provenance": []
    },
    "kernelspec": {
      "name": "python3",
      "display_name": "Python 3"
    },
    "language_info": {
      "name": "python"
    }
  },
  "cells": [
    {
      "cell_type": "code",
      "source": [
        "# 📦 1. Mediapipe 설치\n",
        "!pip install mediapipe\n",
        "\n",
        "# 📥 2. 모델 다운로드\n",
        "!wget -q -O pose_landmarker.task https://storage.googleapis.com/mediapipe-models/pose_landmarker/pose_landmarker_heavy/float16/1/pose_landmarker_heavy.task\n",
        "\n",
        "# 📚 3. 라이브러리 import\n",
        "import mediapipe as mp\n",
        "from mediapipe.tasks import python\n",
        "from mediapipe.tasks.python import vision\n",
        "\n",
        "import numpy as np\n",
        "import cv2\n",
        "import PIL.Image\n",
        "import io\n",
        "import time\n",
        "from base64 import b64decode\n",
        "from IPython.display import Javascript, display\n",
        "from google.colab.output import eval_js\n",
        "from google.colab.patches import cv2_imshow\n",
        "\n",
        "# 🎥 4. 웹캠 JavaScript 캡처 함수\n",
        "def video_stream():\n",
        "    js = Javascript('''\n",
        "        async function startStream() {\n",
        "            const video = document.createElement('video');\n",
        "            const canvas = document.createElement('canvas');\n",
        "            const ctx = canvas.getContext('2d');\n",
        "            const stream = await navigator.mediaDevices.getUserMedia({ video: true });\n",
        "\n",
        "            video.srcObject = stream;\n",
        "            await video.play();\n",
        "\n",
        "            document.body.appendChild(video);\n",
        "            document.body.appendChild(canvas);\n",
        "            canvas.width = video.videoWidth;\n",
        "            canvas.height = video.videoHeight;\n",
        "\n",
        "            function captureFrame() {\n",
        "                ctx.drawImage(video, 0, 0, canvas.width, canvas.height);\n",
        "                return canvas.toDataURL('image/jpeg', 0.8);\n",
        "            }\n",
        "\n",
        "            return new Promise((resolve) => {\n",
        "                setInterval(() => resolve(captureFrame()), 100);\n",
        "            });\n",
        "        }\n",
        "    ''')\n",
        "    display(js)\n",
        "    return eval_js('startStream()')\n",
        "\n",
        "# 📸 5. 프레임 가져오는 함수\n",
        "def get_frame():\n",
        "    frame_data = video_stream()\n",
        "    binary = b64decode(frame_data.split(',')[1])\n",
        "    image = PIL.Image.open(io.BytesIO(binary))\n",
        "    image_np = np.array(image)\n",
        "    return cv2.cvtColor(image_np, cv2.COLOR_RGB2BGR)\n",
        "\n",
        "# 🤖 6. Mediapipe Pose 모델 초기화\n",
        "base_options = python.BaseOptions(model_asset_path='pose_landmarker.task')\n",
        "options = vision.PoseLandmarkerOptions(\n",
        "    base_options=base_options,\n",
        "    output_segmentation_masks=False,\n",
        "    running_mode=vision.RunningMode.IMAGE\n",
        ")\n",
        "detector = vision.PoseLandmarker.create_from_options(options)\n",
        "\n",
        "# 🧼 7. 웹캠 요소 제거 함수 (선택)\n",
        "def remove_video_elements():\n",
        "    js = Javascript('''\n",
        "        function removeVideos() {\n",
        "            let videos = document.querySelectorAll('video');\n",
        "            let canvases = document.querySelectorAll('canvas');\n",
        "            videos.forEach(video => video.remove());\n",
        "            canvases.forEach(canvas => canvas.remove());\n",
        "        }\n",
        "        removeVideos();\n",
        "    ''')\n",
        "    display(js)\n"
      ],
      "metadata": {
        "colab": {
          "base_uri": "https://localhost:8080/"
        },
        "id": "2Esv4mD19yCw",
        "outputId": "77bf4196-888b-4b5d-90f6-fdedfa14acde"
      },
      "execution_count": 1,
      "outputs": [
        {
          "output_type": "stream",
          "name": "stdout",
          "text": [
            "Requirement already satisfied: mediapipe in /usr/local/lib/python3.11/dist-packages (0.10.21)\n",
            "Requirement already satisfied: absl-py in /usr/local/lib/python3.11/dist-packages (from mediapipe) (1.4.0)\n",
            "Requirement already satisfied: attrs>=19.1.0 in /usr/local/lib/python3.11/dist-packages (from mediapipe) (25.3.0)\n",
            "Requirement already satisfied: flatbuffers>=2.0 in /usr/local/lib/python3.11/dist-packages (from mediapipe) (25.2.10)\n",
            "Requirement already satisfied: jax in /usr/local/lib/python3.11/dist-packages (from mediapipe) (0.5.2)\n",
            "Requirement already satisfied: jaxlib in /usr/local/lib/python3.11/dist-packages (from mediapipe) (0.5.1)\n",
            "Requirement already satisfied: matplotlib in /usr/local/lib/python3.11/dist-packages (from mediapipe) (3.10.0)\n",
            "Requirement already satisfied: numpy<2 in /usr/local/lib/python3.11/dist-packages (from mediapipe) (1.26.4)\n",
            "Requirement already satisfied: opencv-contrib-python in /usr/local/lib/python3.11/dist-packages (from mediapipe) (4.11.0.86)\n",
            "Requirement already satisfied: protobuf<5,>=4.25.3 in /usr/local/lib/python3.11/dist-packages (from mediapipe) (4.25.8)\n",
            "Requirement already satisfied: sounddevice>=0.4.4 in /usr/local/lib/python3.11/dist-packages (from mediapipe) (0.5.2)\n",
            "Requirement already satisfied: sentencepiece in /usr/local/lib/python3.11/dist-packages (from mediapipe) (0.2.0)\n",
            "Requirement already satisfied: CFFI>=1.0 in /usr/local/lib/python3.11/dist-packages (from sounddevice>=0.4.4->mediapipe) (1.17.1)\n",
            "Requirement already satisfied: ml_dtypes>=0.4.0 in /usr/local/lib/python3.11/dist-packages (from jax->mediapipe) (0.4.1)\n",
            "Requirement already satisfied: opt_einsum in /usr/local/lib/python3.11/dist-packages (from jax->mediapipe) (3.4.0)\n",
            "Requirement already satisfied: scipy>=1.11.1 in /usr/local/lib/python3.11/dist-packages (from jax->mediapipe) (1.15.3)\n",
            "Requirement already satisfied: contourpy>=1.0.1 in /usr/local/lib/python3.11/dist-packages (from matplotlib->mediapipe) (1.3.2)\n",
            "Requirement already satisfied: cycler>=0.10 in /usr/local/lib/python3.11/dist-packages (from matplotlib->mediapipe) (0.12.1)\n",
            "Requirement already satisfied: fonttools>=4.22.0 in /usr/local/lib/python3.11/dist-packages (from matplotlib->mediapipe) (4.58.4)\n",
            "Requirement already satisfied: kiwisolver>=1.3.1 in /usr/local/lib/python3.11/dist-packages (from matplotlib->mediapipe) (1.4.8)\n",
            "Requirement already satisfied: packaging>=20.0 in /usr/local/lib/python3.11/dist-packages (from matplotlib->mediapipe) (24.2)\n",
            "Requirement already satisfied: pillow>=8 in /usr/local/lib/python3.11/dist-packages (from matplotlib->mediapipe) (11.2.1)\n",
            "Requirement already satisfied: pyparsing>=2.3.1 in /usr/local/lib/python3.11/dist-packages (from matplotlib->mediapipe) (3.2.3)\n",
            "Requirement already satisfied: python-dateutil>=2.7 in /usr/local/lib/python3.11/dist-packages (from matplotlib->mediapipe) (2.9.0.post0)\n",
            "Requirement already satisfied: pycparser in /usr/local/lib/python3.11/dist-packages (from CFFI>=1.0->sounddevice>=0.4.4->mediapipe) (2.22)\n",
            "Requirement already satisfied: six>=1.5 in /usr/local/lib/python3.11/dist-packages (from python-dateutil>=2.7->matplotlib->mediapipe) (1.17.0)\n"
          ]
        }
      ]
    },
    {
      "cell_type": "code",
      "source": [
        "# 33개 랜드마크 연결 정의 (Mediapipe 공식 연결 순서 일부 예시)\n",
        "POSE_CONNECTIONS = [\n",
        "    (0, 1), (1, 2), (2, 3), (3, 7),     # 오른팔\n",
        "    (0, 4), (4, 5), (5, 6), (6, 8),     # 왼팔\n",
        "    (9, 10),                           # 어깨\n",
        "    (11, 12), (11, 13), (13, 15),      # 왼쪽 다리\n",
        "    (12, 14), (14, 16),                # 오른쪽 다리\n",
        "    (11, 23), (12, 24),                # 허리 연결\n",
        "    (23, 24), (23, 25), (24, 26),      # 골반-다리\n",
        "    (25, 27), (26, 28),\n",
        "    (27, 29), (28, 30),\n",
        "    (29, 31), (30, 32)\n",
        "]\n",
        "\n",
        "def draw_landmarks_on_frame(frame, landmarks):\n",
        "    annotated = frame.copy()\n",
        "    h, w, _ = frame.shape\n",
        "\n",
        "    # 점 그리기\n",
        "    for lm in landmarks:\n",
        "        x = int(lm.x * w)\n",
        "        y = int(lm.y * h)\n",
        "        cv2.circle(annotated, (x, y), 4, (0, 255, 0), -1)\n",
        "\n",
        "    # 선 연결\n",
        "    for start_idx, end_idx in POSE_CONNECTIONS:\n",
        "        if start_idx < len(landmarks) and end_idx < len(landmarks):\n",
        "            x0, y0 = int(landmarks[start_idx].x * w), int(landmarks[start_idx].y * h)\n",
        "            x1, y1 = int(landmarks[end_idx].x * w), int(landmarks[end_idx].y * h)\n",
        "            cv2.line(annotated, (x0, y0), (x1, y1), (0, 255, 0), 2)\n",
        "\n",
        "    return annotated"
      ],
      "metadata": {
        "id": "EZxx-rl393No"
      },
      "execution_count": 2,
      "outputs": []
    },
    {
      "cell_type": "code",
      "source": [
        "import time\n",
        "import numpy as np\n",
        "\n",
        "fps = 10  # 초당 프레임 수\n",
        "duration = 30  # 총 수집 시간 (초)\n",
        "interval = 1 / fps  # 프레임 간 간격 = 0.1초\n",
        "captured_frames = []\n",
        "\n",
        "start_time = time.time()\n",
        "last_capture = start_time\n",
        "\n",
        "print(f\"📸 {duration}초 동안 초당 {fps}프레임 수집 시작...\")\n",
        "\n",
        "while True:\n",
        "    now = time.time()\n",
        "\n",
        "    # 일정 간격마다만 프레임 캡처\n",
        "    if now - last_capture >= interval:\n",
        "        frame = get_frame()  # 👉 네가 이미 정의한 실시간 프레임 수집 함수\n",
        "        captured_frames.append(frame)\n",
        "        last_capture = now\n",
        "        print(f\"✅ {len(captured_frames)} 프레임 수집됨\", end='\\r')\n",
        "\n",
        "    # 시간 다 지나면 종료\n",
        "    if now - start_time >= duration:\n",
        "        break\n",
        "\n",
        "print(f\"\\n✅ 프레임 수집 완료! 총 {len(captured_frames)} 프레임\")"
      ],
      "metadata": {
        "colab": {
          "base_uri": "https://localhost:8080/",
          "height": 1000
        },
        "id": "iWIkA84B-Dke",
        "outputId": "8203b65b-28d7-4867-fa71-224546e0626c"
      },
      "execution_count": 5,
      "outputs": [
        {
          "output_type": "stream",
          "name": "stdout",
          "text": [
            "📸 30초 동안 초당 10프레임 수집 시작...\n"
          ]
        },
        {
          "output_type": "display_data",
          "data": {
            "text/plain": [
              "<IPython.core.display.Javascript object>"
            ],
            "application/javascript": [
              "\n",
              "        async function startStream() {\n",
              "            const video = document.createElement('video');\n",
              "            const canvas = document.createElement('canvas');\n",
              "            const ctx = canvas.getContext('2d');\n",
              "            const stream = await navigator.mediaDevices.getUserMedia({ video: true });\n",
              "\n",
              "            video.srcObject = stream;\n",
              "            await video.play();\n",
              "\n",
              "            document.body.appendChild(video);\n",
              "            document.body.appendChild(canvas);\n",
              "            canvas.width = video.videoWidth;\n",
              "            canvas.height = video.videoHeight;\n",
              "\n",
              "            function captureFrame() {\n",
              "                ctx.drawImage(video, 0, 0, canvas.width, canvas.height);\n",
              "                return canvas.toDataURL('image/jpeg', 0.8);\n",
              "            }\n",
              "\n",
              "            return new Promise((resolve) => {\n",
              "                setInterval(() => resolve(captureFrame()), 100);\n",
              "            });\n",
              "        }\n",
              "    "
            ]
          },
          "metadata": {}
        },
        {
          "output_type": "stream",
          "name": "stdout",
          "text": [
            "✅ 1 프레임 수집됨\r"
          ]
        },
        {
          "output_type": "display_data",
          "data": {
            "text/plain": [
              "<IPython.core.display.Javascript object>"
            ],
            "application/javascript": [
              "\n",
              "        async function startStream() {\n",
              "            const video = document.createElement('video');\n",
              "            const canvas = document.createElement('canvas');\n",
              "            const ctx = canvas.getContext('2d');\n",
              "            const stream = await navigator.mediaDevices.getUserMedia({ video: true });\n",
              "\n",
              "            video.srcObject = stream;\n",
              "            await video.play();\n",
              "\n",
              "            document.body.appendChild(video);\n",
              "            document.body.appendChild(canvas);\n",
              "            canvas.width = video.videoWidth;\n",
              "            canvas.height = video.videoHeight;\n",
              "\n",
              "            function captureFrame() {\n",
              "                ctx.drawImage(video, 0, 0, canvas.width, canvas.height);\n",
              "                return canvas.toDataURL('image/jpeg', 0.8);\n",
              "            }\n",
              "\n",
              "            return new Promise((resolve) => {\n",
              "                setInterval(() => resolve(captureFrame()), 100);\n",
              "            });\n",
              "        }\n",
              "    "
            ]
          },
          "metadata": {}
        },
        {
          "output_type": "stream",
          "name": "stdout",
          "text": [
            "✅ 2 프레임 수집됨\r"
          ]
        },
        {
          "output_type": "display_data",
          "data": {
            "text/plain": [
              "<IPython.core.display.Javascript object>"
            ],
            "application/javascript": [
              "\n",
              "        async function startStream() {\n",
              "            const video = document.createElement('video');\n",
              "            const canvas = document.createElement('canvas');\n",
              "            const ctx = canvas.getContext('2d');\n",
              "            const stream = await navigator.mediaDevices.getUserMedia({ video: true });\n",
              "\n",
              "            video.srcObject = stream;\n",
              "            await video.play();\n",
              "\n",
              "            document.body.appendChild(video);\n",
              "            document.body.appendChild(canvas);\n",
              "            canvas.width = video.videoWidth;\n",
              "            canvas.height = video.videoHeight;\n",
              "\n",
              "            function captureFrame() {\n",
              "                ctx.drawImage(video, 0, 0, canvas.width, canvas.height);\n",
              "                return canvas.toDataURL('image/jpeg', 0.8);\n",
              "            }\n",
              "\n",
              "            return new Promise((resolve) => {\n",
              "                setInterval(() => resolve(captureFrame()), 100);\n",
              "            });\n",
              "        }\n",
              "    "
            ]
          },
          "metadata": {}
        },
        {
          "output_type": "stream",
          "name": "stdout",
          "text": [
            "✅ 3 프레임 수집됨\r"
          ]
        },
        {
          "output_type": "display_data",
          "data": {
            "text/plain": [
              "<IPython.core.display.Javascript object>"
            ],
            "application/javascript": [
              "\n",
              "        async function startStream() {\n",
              "            const video = document.createElement('video');\n",
              "            const canvas = document.createElement('canvas');\n",
              "            const ctx = canvas.getContext('2d');\n",
              "            const stream = await navigator.mediaDevices.getUserMedia({ video: true });\n",
              "\n",
              "            video.srcObject = stream;\n",
              "            await video.play();\n",
              "\n",
              "            document.body.appendChild(video);\n",
              "            document.body.appendChild(canvas);\n",
              "            canvas.width = video.videoWidth;\n",
              "            canvas.height = video.videoHeight;\n",
              "\n",
              "            function captureFrame() {\n",
              "                ctx.drawImage(video, 0, 0, canvas.width, canvas.height);\n",
              "                return canvas.toDataURL('image/jpeg', 0.8);\n",
              "            }\n",
              "\n",
              "            return new Promise((resolve) => {\n",
              "                setInterval(() => resolve(captureFrame()), 100);\n",
              "            });\n",
              "        }\n",
              "    "
            ]
          },
          "metadata": {}
        },
        {
          "output_type": "stream",
          "name": "stdout",
          "text": [
            "✅ 4 프레임 수집됨\r"
          ]
        },
        {
          "output_type": "display_data",
          "data": {
            "text/plain": [
              "<IPython.core.display.Javascript object>"
            ],
            "application/javascript": [
              "\n",
              "        async function startStream() {\n",
              "            const video = document.createElement('video');\n",
              "            const canvas = document.createElement('canvas');\n",
              "            const ctx = canvas.getContext('2d');\n",
              "            const stream = await navigator.mediaDevices.getUserMedia({ video: true });\n",
              "\n",
              "            video.srcObject = stream;\n",
              "            await video.play();\n",
              "\n",
              "            document.body.appendChild(video);\n",
              "            document.body.appendChild(canvas);\n",
              "            canvas.width = video.videoWidth;\n",
              "            canvas.height = video.videoHeight;\n",
              "\n",
              "            function captureFrame() {\n",
              "                ctx.drawImage(video, 0, 0, canvas.width, canvas.height);\n",
              "                return canvas.toDataURL('image/jpeg', 0.8);\n",
              "            }\n",
              "\n",
              "            return new Promise((resolve) => {\n",
              "                setInterval(() => resolve(captureFrame()), 100);\n",
              "            });\n",
              "        }\n",
              "    "
            ]
          },
          "metadata": {}
        },
        {
          "output_type": "stream",
          "name": "stdout",
          "text": [
            "✅ 5 프레임 수집됨\r"
          ]
        },
        {
          "output_type": "display_data",
          "data": {
            "text/plain": [
              "<IPython.core.display.Javascript object>"
            ],
            "application/javascript": [
              "\n",
              "        async function startStream() {\n",
              "            const video = document.createElement('video');\n",
              "            const canvas = document.createElement('canvas');\n",
              "            const ctx = canvas.getContext('2d');\n",
              "            const stream = await navigator.mediaDevices.getUserMedia({ video: true });\n",
              "\n",
              "            video.srcObject = stream;\n",
              "            await video.play();\n",
              "\n",
              "            document.body.appendChild(video);\n",
              "            document.body.appendChild(canvas);\n",
              "            canvas.width = video.videoWidth;\n",
              "            canvas.height = video.videoHeight;\n",
              "\n",
              "            function captureFrame() {\n",
              "                ctx.drawImage(video, 0, 0, canvas.width, canvas.height);\n",
              "                return canvas.toDataURL('image/jpeg', 0.8);\n",
              "            }\n",
              "\n",
              "            return new Promise((resolve) => {\n",
              "                setInterval(() => resolve(captureFrame()), 100);\n",
              "            });\n",
              "        }\n",
              "    "
            ]
          },
          "metadata": {}
        },
        {
          "output_type": "stream",
          "name": "stdout",
          "text": [
            "✅ 6 프레임 수집됨\r"
          ]
        },
        {
          "output_type": "display_data",
          "data": {
            "text/plain": [
              "<IPython.core.display.Javascript object>"
            ],
            "application/javascript": [
              "\n",
              "        async function startStream() {\n",
              "            const video = document.createElement('video');\n",
              "            const canvas = document.createElement('canvas');\n",
              "            const ctx = canvas.getContext('2d');\n",
              "            const stream = await navigator.mediaDevices.getUserMedia({ video: true });\n",
              "\n",
              "            video.srcObject = stream;\n",
              "            await video.play();\n",
              "\n",
              "            document.body.appendChild(video);\n",
              "            document.body.appendChild(canvas);\n",
              "            canvas.width = video.videoWidth;\n",
              "            canvas.height = video.videoHeight;\n",
              "\n",
              "            function captureFrame() {\n",
              "                ctx.drawImage(video, 0, 0, canvas.width, canvas.height);\n",
              "                return canvas.toDataURL('image/jpeg', 0.8);\n",
              "            }\n",
              "\n",
              "            return new Promise((resolve) => {\n",
              "                setInterval(() => resolve(captureFrame()), 100);\n",
              "            });\n",
              "        }\n",
              "    "
            ]
          },
          "metadata": {}
        },
        {
          "output_type": "stream",
          "name": "stdout",
          "text": [
            "✅ 7 프레임 수집됨\r"
          ]
        },
        {
          "output_type": "display_data",
          "data": {
            "text/plain": [
              "<IPython.core.display.Javascript object>"
            ],
            "application/javascript": [
              "\n",
              "        async function startStream() {\n",
              "            const video = document.createElement('video');\n",
              "            const canvas = document.createElement('canvas');\n",
              "            const ctx = canvas.getContext('2d');\n",
              "            const stream = await navigator.mediaDevices.getUserMedia({ video: true });\n",
              "\n",
              "            video.srcObject = stream;\n",
              "            await video.play();\n",
              "\n",
              "            document.body.appendChild(video);\n",
              "            document.body.appendChild(canvas);\n",
              "            canvas.width = video.videoWidth;\n",
              "            canvas.height = video.videoHeight;\n",
              "\n",
              "            function captureFrame() {\n",
              "                ctx.drawImage(video, 0, 0, canvas.width, canvas.height);\n",
              "                return canvas.toDataURL('image/jpeg', 0.8);\n",
              "            }\n",
              "\n",
              "            return new Promise((resolve) => {\n",
              "                setInterval(() => resolve(captureFrame()), 100);\n",
              "            });\n",
              "        }\n",
              "    "
            ]
          },
          "metadata": {}
        },
        {
          "output_type": "stream",
          "name": "stdout",
          "text": [
            "✅ 8 프레임 수집됨\r"
          ]
        },
        {
          "output_type": "display_data",
          "data": {
            "text/plain": [
              "<IPython.core.display.Javascript object>"
            ],
            "application/javascript": [
              "\n",
              "        async function startStream() {\n",
              "            const video = document.createElement('video');\n",
              "            const canvas = document.createElement('canvas');\n",
              "            const ctx = canvas.getContext('2d');\n",
              "            const stream = await navigator.mediaDevices.getUserMedia({ video: true });\n",
              "\n",
              "            video.srcObject = stream;\n",
              "            await video.play();\n",
              "\n",
              "            document.body.appendChild(video);\n",
              "            document.body.appendChild(canvas);\n",
              "            canvas.width = video.videoWidth;\n",
              "            canvas.height = video.videoHeight;\n",
              "\n",
              "            function captureFrame() {\n",
              "                ctx.drawImage(video, 0, 0, canvas.width, canvas.height);\n",
              "                return canvas.toDataURL('image/jpeg', 0.8);\n",
              "            }\n",
              "\n",
              "            return new Promise((resolve) => {\n",
              "                setInterval(() => resolve(captureFrame()), 100);\n",
              "            });\n",
              "        }\n",
              "    "
            ]
          },
          "metadata": {}
        },
        {
          "output_type": "stream",
          "name": "stdout",
          "text": [
            "✅ 9 프레임 수집됨\r"
          ]
        },
        {
          "output_type": "display_data",
          "data": {
            "text/plain": [
              "<IPython.core.display.Javascript object>"
            ],
            "application/javascript": [
              "\n",
              "        async function startStream() {\n",
              "            const video = document.createElement('video');\n",
              "            const canvas = document.createElement('canvas');\n",
              "            const ctx = canvas.getContext('2d');\n",
              "            const stream = await navigator.mediaDevices.getUserMedia({ video: true });\n",
              "\n",
              "            video.srcObject = stream;\n",
              "            await video.play();\n",
              "\n",
              "            document.body.appendChild(video);\n",
              "            document.body.appendChild(canvas);\n",
              "            canvas.width = video.videoWidth;\n",
              "            canvas.height = video.videoHeight;\n",
              "\n",
              "            function captureFrame() {\n",
              "                ctx.drawImage(video, 0, 0, canvas.width, canvas.height);\n",
              "                return canvas.toDataURL('image/jpeg', 0.8);\n",
              "            }\n",
              "\n",
              "            return new Promise((resolve) => {\n",
              "                setInterval(() => resolve(captureFrame()), 100);\n",
              "            });\n",
              "        }\n",
              "    "
            ]
          },
          "metadata": {}
        },
        {
          "output_type": "stream",
          "name": "stdout",
          "text": [
            "✅ 10 프레임 수집됨\r"
          ]
        },
        {
          "output_type": "display_data",
          "data": {
            "text/plain": [
              "<IPython.core.display.Javascript object>"
            ],
            "application/javascript": [
              "\n",
              "        async function startStream() {\n",
              "            const video = document.createElement('video');\n",
              "            const canvas = document.createElement('canvas');\n",
              "            const ctx = canvas.getContext('2d');\n",
              "            const stream = await navigator.mediaDevices.getUserMedia({ video: true });\n",
              "\n",
              "            video.srcObject = stream;\n",
              "            await video.play();\n",
              "\n",
              "            document.body.appendChild(video);\n",
              "            document.body.appendChild(canvas);\n",
              "            canvas.width = video.videoWidth;\n",
              "            canvas.height = video.videoHeight;\n",
              "\n",
              "            function captureFrame() {\n",
              "                ctx.drawImage(video, 0, 0, canvas.width, canvas.height);\n",
              "                return canvas.toDataURL('image/jpeg', 0.8);\n",
              "            }\n",
              "\n",
              "            return new Promise((resolve) => {\n",
              "                setInterval(() => resolve(captureFrame()), 100);\n",
              "            });\n",
              "        }\n",
              "    "
            ]
          },
          "metadata": {}
        },
        {
          "output_type": "stream",
          "name": "stdout",
          "text": [
            "✅ 11 프레임 수집됨\r"
          ]
        },
        {
          "output_type": "display_data",
          "data": {
            "text/plain": [
              "<IPython.core.display.Javascript object>"
            ],
            "application/javascript": [
              "\n",
              "        async function startStream() {\n",
              "            const video = document.createElement('video');\n",
              "            const canvas = document.createElement('canvas');\n",
              "            const ctx = canvas.getContext('2d');\n",
              "            const stream = await navigator.mediaDevices.getUserMedia({ video: true });\n",
              "\n",
              "            video.srcObject = stream;\n",
              "            await video.play();\n",
              "\n",
              "            document.body.appendChild(video);\n",
              "            document.body.appendChild(canvas);\n",
              "            canvas.width = video.videoWidth;\n",
              "            canvas.height = video.videoHeight;\n",
              "\n",
              "            function captureFrame() {\n",
              "                ctx.drawImage(video, 0, 0, canvas.width, canvas.height);\n",
              "                return canvas.toDataURL('image/jpeg', 0.8);\n",
              "            }\n",
              "\n",
              "            return new Promise((resolve) => {\n",
              "                setInterval(() => resolve(captureFrame()), 100);\n",
              "            });\n",
              "        }\n",
              "    "
            ]
          },
          "metadata": {}
        },
        {
          "output_type": "stream",
          "name": "stdout",
          "text": [
            "✅ 12 프레임 수집됨\r"
          ]
        },
        {
          "output_type": "display_data",
          "data": {
            "text/plain": [
              "<IPython.core.display.Javascript object>"
            ],
            "application/javascript": [
              "\n",
              "        async function startStream() {\n",
              "            const video = document.createElement('video');\n",
              "            const canvas = document.createElement('canvas');\n",
              "            const ctx = canvas.getContext('2d');\n",
              "            const stream = await navigator.mediaDevices.getUserMedia({ video: true });\n",
              "\n",
              "            video.srcObject = stream;\n",
              "            await video.play();\n",
              "\n",
              "            document.body.appendChild(video);\n",
              "            document.body.appendChild(canvas);\n",
              "            canvas.width = video.videoWidth;\n",
              "            canvas.height = video.videoHeight;\n",
              "\n",
              "            function captureFrame() {\n",
              "                ctx.drawImage(video, 0, 0, canvas.width, canvas.height);\n",
              "                return canvas.toDataURL('image/jpeg', 0.8);\n",
              "            }\n",
              "\n",
              "            return new Promise((resolve) => {\n",
              "                setInterval(() => resolve(captureFrame()), 100);\n",
              "            });\n",
              "        }\n",
              "    "
            ]
          },
          "metadata": {}
        },
        {
          "output_type": "stream",
          "name": "stdout",
          "text": [
            "✅ 13 프레임 수집됨\r"
          ]
        },
        {
          "output_type": "display_data",
          "data": {
            "text/plain": [
              "<IPython.core.display.Javascript object>"
            ],
            "application/javascript": [
              "\n",
              "        async function startStream() {\n",
              "            const video = document.createElement('video');\n",
              "            const canvas = document.createElement('canvas');\n",
              "            const ctx = canvas.getContext('2d');\n",
              "            const stream = await navigator.mediaDevices.getUserMedia({ video: true });\n",
              "\n",
              "            video.srcObject = stream;\n",
              "            await video.play();\n",
              "\n",
              "            document.body.appendChild(video);\n",
              "            document.body.appendChild(canvas);\n",
              "            canvas.width = video.videoWidth;\n",
              "            canvas.height = video.videoHeight;\n",
              "\n",
              "            function captureFrame() {\n",
              "                ctx.drawImage(video, 0, 0, canvas.width, canvas.height);\n",
              "                return canvas.toDataURL('image/jpeg', 0.8);\n",
              "            }\n",
              "\n",
              "            return new Promise((resolve) => {\n",
              "                setInterval(() => resolve(captureFrame()), 100);\n",
              "            });\n",
              "        }\n",
              "    "
            ]
          },
          "metadata": {}
        },
        {
          "output_type": "stream",
          "name": "stdout",
          "text": [
            "✅ 14 프레임 수집됨\r"
          ]
        },
        {
          "output_type": "display_data",
          "data": {
            "text/plain": [
              "<IPython.core.display.Javascript object>"
            ],
            "application/javascript": [
              "\n",
              "        async function startStream() {\n",
              "            const video = document.createElement('video');\n",
              "            const canvas = document.createElement('canvas');\n",
              "            const ctx = canvas.getContext('2d');\n",
              "            const stream = await navigator.mediaDevices.getUserMedia({ video: true });\n",
              "\n",
              "            video.srcObject = stream;\n",
              "            await video.play();\n",
              "\n",
              "            document.body.appendChild(video);\n",
              "            document.body.appendChild(canvas);\n",
              "            canvas.width = video.videoWidth;\n",
              "            canvas.height = video.videoHeight;\n",
              "\n",
              "            function captureFrame() {\n",
              "                ctx.drawImage(video, 0, 0, canvas.width, canvas.height);\n",
              "                return canvas.toDataURL('image/jpeg', 0.8);\n",
              "            }\n",
              "\n",
              "            return new Promise((resolve) => {\n",
              "                setInterval(() => resolve(captureFrame()), 100);\n",
              "            });\n",
              "        }\n",
              "    "
            ]
          },
          "metadata": {}
        },
        {
          "output_type": "stream",
          "name": "stdout",
          "text": [
            "✅ 15 프레임 수집됨\r"
          ]
        },
        {
          "output_type": "display_data",
          "data": {
            "text/plain": [
              "<IPython.core.display.Javascript object>"
            ],
            "application/javascript": [
              "\n",
              "        async function startStream() {\n",
              "            const video = document.createElement('video');\n",
              "            const canvas = document.createElement('canvas');\n",
              "            const ctx = canvas.getContext('2d');\n",
              "            const stream = await navigator.mediaDevices.getUserMedia({ video: true });\n",
              "\n",
              "            video.srcObject = stream;\n",
              "            await video.play();\n",
              "\n",
              "            document.body.appendChild(video);\n",
              "            document.body.appendChild(canvas);\n",
              "            canvas.width = video.videoWidth;\n",
              "            canvas.height = video.videoHeight;\n",
              "\n",
              "            function captureFrame() {\n",
              "                ctx.drawImage(video, 0, 0, canvas.width, canvas.height);\n",
              "                return canvas.toDataURL('image/jpeg', 0.8);\n",
              "            }\n",
              "\n",
              "            return new Promise((resolve) => {\n",
              "                setInterval(() => resolve(captureFrame()), 100);\n",
              "            });\n",
              "        }\n",
              "    "
            ]
          },
          "metadata": {}
        },
        {
          "output_type": "stream",
          "name": "stdout",
          "text": [
            "✅ 16 프레임 수집됨\r"
          ]
        },
        {
          "output_type": "display_data",
          "data": {
            "text/plain": [
              "<IPython.core.display.Javascript object>"
            ],
            "application/javascript": [
              "\n",
              "        async function startStream() {\n",
              "            const video = document.createElement('video');\n",
              "            const canvas = document.createElement('canvas');\n",
              "            const ctx = canvas.getContext('2d');\n",
              "            const stream = await navigator.mediaDevices.getUserMedia({ video: true });\n",
              "\n",
              "            video.srcObject = stream;\n",
              "            await video.play();\n",
              "\n",
              "            document.body.appendChild(video);\n",
              "            document.body.appendChild(canvas);\n",
              "            canvas.width = video.videoWidth;\n",
              "            canvas.height = video.videoHeight;\n",
              "\n",
              "            function captureFrame() {\n",
              "                ctx.drawImage(video, 0, 0, canvas.width, canvas.height);\n",
              "                return canvas.toDataURL('image/jpeg', 0.8);\n",
              "            }\n",
              "\n",
              "            return new Promise((resolve) => {\n",
              "                setInterval(() => resolve(captureFrame()), 100);\n",
              "            });\n",
              "        }\n",
              "    "
            ]
          },
          "metadata": {}
        },
        {
          "output_type": "stream",
          "name": "stdout",
          "text": [
            "✅ 17 프레임 수집됨\r"
          ]
        },
        {
          "output_type": "display_data",
          "data": {
            "text/plain": [
              "<IPython.core.display.Javascript object>"
            ],
            "application/javascript": [
              "\n",
              "        async function startStream() {\n",
              "            const video = document.createElement('video');\n",
              "            const canvas = document.createElement('canvas');\n",
              "            const ctx = canvas.getContext('2d');\n",
              "            const stream = await navigator.mediaDevices.getUserMedia({ video: true });\n",
              "\n",
              "            video.srcObject = stream;\n",
              "            await video.play();\n",
              "\n",
              "            document.body.appendChild(video);\n",
              "            document.body.appendChild(canvas);\n",
              "            canvas.width = video.videoWidth;\n",
              "            canvas.height = video.videoHeight;\n",
              "\n",
              "            function captureFrame() {\n",
              "                ctx.drawImage(video, 0, 0, canvas.width, canvas.height);\n",
              "                return canvas.toDataURL('image/jpeg', 0.8);\n",
              "            }\n",
              "\n",
              "            return new Promise((resolve) => {\n",
              "                setInterval(() => resolve(captureFrame()), 100);\n",
              "            });\n",
              "        }\n",
              "    "
            ]
          },
          "metadata": {}
        },
        {
          "output_type": "stream",
          "name": "stdout",
          "text": [
            "✅ 18 프레임 수집됨\r"
          ]
        },
        {
          "output_type": "display_data",
          "data": {
            "text/plain": [
              "<IPython.core.display.Javascript object>"
            ],
            "application/javascript": [
              "\n",
              "        async function startStream() {\n",
              "            const video = document.createElement('video');\n",
              "            const canvas = document.createElement('canvas');\n",
              "            const ctx = canvas.getContext('2d');\n",
              "            const stream = await navigator.mediaDevices.getUserMedia({ video: true });\n",
              "\n",
              "            video.srcObject = stream;\n",
              "            await video.play();\n",
              "\n",
              "            document.body.appendChild(video);\n",
              "            document.body.appendChild(canvas);\n",
              "            canvas.width = video.videoWidth;\n",
              "            canvas.height = video.videoHeight;\n",
              "\n",
              "            function captureFrame() {\n",
              "                ctx.drawImage(video, 0, 0, canvas.width, canvas.height);\n",
              "                return canvas.toDataURL('image/jpeg', 0.8);\n",
              "            }\n",
              "\n",
              "            return new Promise((resolve) => {\n",
              "                setInterval(() => resolve(captureFrame()), 100);\n",
              "            });\n",
              "        }\n",
              "    "
            ]
          },
          "metadata": {}
        },
        {
          "output_type": "stream",
          "name": "stdout",
          "text": [
            "✅ 19 프레임 수집됨\r"
          ]
        },
        {
          "output_type": "display_data",
          "data": {
            "text/plain": [
              "<IPython.core.display.Javascript object>"
            ],
            "application/javascript": [
              "\n",
              "        async function startStream() {\n",
              "            const video = document.createElement('video');\n",
              "            const canvas = document.createElement('canvas');\n",
              "            const ctx = canvas.getContext('2d');\n",
              "            const stream = await navigator.mediaDevices.getUserMedia({ video: true });\n",
              "\n",
              "            video.srcObject = stream;\n",
              "            await video.play();\n",
              "\n",
              "            document.body.appendChild(video);\n",
              "            document.body.appendChild(canvas);\n",
              "            canvas.width = video.videoWidth;\n",
              "            canvas.height = video.videoHeight;\n",
              "\n",
              "            function captureFrame() {\n",
              "                ctx.drawImage(video, 0, 0, canvas.width, canvas.height);\n",
              "                return canvas.toDataURL('image/jpeg', 0.8);\n",
              "            }\n",
              "\n",
              "            return new Promise((resolve) => {\n",
              "                setInterval(() => resolve(captureFrame()), 100);\n",
              "            });\n",
              "        }\n",
              "    "
            ]
          },
          "metadata": {}
        },
        {
          "output_type": "stream",
          "name": "stdout",
          "text": [
            "✅ 20 프레임 수집됨\r"
          ]
        },
        {
          "output_type": "display_data",
          "data": {
            "text/plain": [
              "<IPython.core.display.Javascript object>"
            ],
            "application/javascript": [
              "\n",
              "        async function startStream() {\n",
              "            const video = document.createElement('video');\n",
              "            const canvas = document.createElement('canvas');\n",
              "            const ctx = canvas.getContext('2d');\n",
              "            const stream = await navigator.mediaDevices.getUserMedia({ video: true });\n",
              "\n",
              "            video.srcObject = stream;\n",
              "            await video.play();\n",
              "\n",
              "            document.body.appendChild(video);\n",
              "            document.body.appendChild(canvas);\n",
              "            canvas.width = video.videoWidth;\n",
              "            canvas.height = video.videoHeight;\n",
              "\n",
              "            function captureFrame() {\n",
              "                ctx.drawImage(video, 0, 0, canvas.width, canvas.height);\n",
              "                return canvas.toDataURL('image/jpeg', 0.8);\n",
              "            }\n",
              "\n",
              "            return new Promise((resolve) => {\n",
              "                setInterval(() => resolve(captureFrame()), 100);\n",
              "            });\n",
              "        }\n",
              "    "
            ]
          },
          "metadata": {}
        },
        {
          "output_type": "stream",
          "name": "stdout",
          "text": [
            "✅ 21 프레임 수집됨\r"
          ]
        },
        {
          "output_type": "display_data",
          "data": {
            "text/plain": [
              "<IPython.core.display.Javascript object>"
            ],
            "application/javascript": [
              "\n",
              "        async function startStream() {\n",
              "            const video = document.createElement('video');\n",
              "            const canvas = document.createElement('canvas');\n",
              "            const ctx = canvas.getContext('2d');\n",
              "            const stream = await navigator.mediaDevices.getUserMedia({ video: true });\n",
              "\n",
              "            video.srcObject = stream;\n",
              "            await video.play();\n",
              "\n",
              "            document.body.appendChild(video);\n",
              "            document.body.appendChild(canvas);\n",
              "            canvas.width = video.videoWidth;\n",
              "            canvas.height = video.videoHeight;\n",
              "\n",
              "            function captureFrame() {\n",
              "                ctx.drawImage(video, 0, 0, canvas.width, canvas.height);\n",
              "                return canvas.toDataURL('image/jpeg', 0.8);\n",
              "            }\n",
              "\n",
              "            return new Promise((resolve) => {\n",
              "                setInterval(() => resolve(captureFrame()), 100);\n",
              "            });\n",
              "        }\n",
              "    "
            ]
          },
          "metadata": {}
        },
        {
          "output_type": "stream",
          "name": "stdout",
          "text": [
            "✅ 22 프레임 수집됨\r"
          ]
        },
        {
          "output_type": "display_data",
          "data": {
            "text/plain": [
              "<IPython.core.display.Javascript object>"
            ],
            "application/javascript": [
              "\n",
              "        async function startStream() {\n",
              "            const video = document.createElement('video');\n",
              "            const canvas = document.createElement('canvas');\n",
              "            const ctx = canvas.getContext('2d');\n",
              "            const stream = await navigator.mediaDevices.getUserMedia({ video: true });\n",
              "\n",
              "            video.srcObject = stream;\n",
              "            await video.play();\n",
              "\n",
              "            document.body.appendChild(video);\n",
              "            document.body.appendChild(canvas);\n",
              "            canvas.width = video.videoWidth;\n",
              "            canvas.height = video.videoHeight;\n",
              "\n",
              "            function captureFrame() {\n",
              "                ctx.drawImage(video, 0, 0, canvas.width, canvas.height);\n",
              "                return canvas.toDataURL('image/jpeg', 0.8);\n",
              "            }\n",
              "\n",
              "            return new Promise((resolve) => {\n",
              "                setInterval(() => resolve(captureFrame()), 100);\n",
              "            });\n",
              "        }\n",
              "    "
            ]
          },
          "metadata": {}
        },
        {
          "output_type": "stream",
          "name": "stdout",
          "text": [
            "✅ 23 프레임 수집됨\r"
          ]
        },
        {
          "output_type": "display_data",
          "data": {
            "text/plain": [
              "<IPython.core.display.Javascript object>"
            ],
            "application/javascript": [
              "\n",
              "        async function startStream() {\n",
              "            const video = document.createElement('video');\n",
              "            const canvas = document.createElement('canvas');\n",
              "            const ctx = canvas.getContext('2d');\n",
              "            const stream = await navigator.mediaDevices.getUserMedia({ video: true });\n",
              "\n",
              "            video.srcObject = stream;\n",
              "            await video.play();\n",
              "\n",
              "            document.body.appendChild(video);\n",
              "            document.body.appendChild(canvas);\n",
              "            canvas.width = video.videoWidth;\n",
              "            canvas.height = video.videoHeight;\n",
              "\n",
              "            function captureFrame() {\n",
              "                ctx.drawImage(video, 0, 0, canvas.width, canvas.height);\n",
              "                return canvas.toDataURL('image/jpeg', 0.8);\n",
              "            }\n",
              "\n",
              "            return new Promise((resolve) => {\n",
              "                setInterval(() => resolve(captureFrame()), 100);\n",
              "            });\n",
              "        }\n",
              "    "
            ]
          },
          "metadata": {}
        },
        {
          "output_type": "stream",
          "name": "stdout",
          "text": [
            "✅ 24 프레임 수집됨\r"
          ]
        },
        {
          "output_type": "display_data",
          "data": {
            "text/plain": [
              "<IPython.core.display.Javascript object>"
            ],
            "application/javascript": [
              "\n",
              "        async function startStream() {\n",
              "            const video = document.createElement('video');\n",
              "            const canvas = document.createElement('canvas');\n",
              "            const ctx = canvas.getContext('2d');\n",
              "            const stream = await navigator.mediaDevices.getUserMedia({ video: true });\n",
              "\n",
              "            video.srcObject = stream;\n",
              "            await video.play();\n",
              "\n",
              "            document.body.appendChild(video);\n",
              "            document.body.appendChild(canvas);\n",
              "            canvas.width = video.videoWidth;\n",
              "            canvas.height = video.videoHeight;\n",
              "\n",
              "            function captureFrame() {\n",
              "                ctx.drawImage(video, 0, 0, canvas.width, canvas.height);\n",
              "                return canvas.toDataURL('image/jpeg', 0.8);\n",
              "            }\n",
              "\n",
              "            return new Promise((resolve) => {\n",
              "                setInterval(() => resolve(captureFrame()), 100);\n",
              "            });\n",
              "        }\n",
              "    "
            ]
          },
          "metadata": {}
        },
        {
          "output_type": "stream",
          "name": "stdout",
          "text": [
            "✅ 25 프레임 수집됨\r"
          ]
        },
        {
          "output_type": "display_data",
          "data": {
            "text/plain": [
              "<IPython.core.display.Javascript object>"
            ],
            "application/javascript": [
              "\n",
              "        async function startStream() {\n",
              "            const video = document.createElement('video');\n",
              "            const canvas = document.createElement('canvas');\n",
              "            const ctx = canvas.getContext('2d');\n",
              "            const stream = await navigator.mediaDevices.getUserMedia({ video: true });\n",
              "\n",
              "            video.srcObject = stream;\n",
              "            await video.play();\n",
              "\n",
              "            document.body.appendChild(video);\n",
              "            document.body.appendChild(canvas);\n",
              "            canvas.width = video.videoWidth;\n",
              "            canvas.height = video.videoHeight;\n",
              "\n",
              "            function captureFrame() {\n",
              "                ctx.drawImage(video, 0, 0, canvas.width, canvas.height);\n",
              "                return canvas.toDataURL('image/jpeg', 0.8);\n",
              "            }\n",
              "\n",
              "            return new Promise((resolve) => {\n",
              "                setInterval(() => resolve(captureFrame()), 100);\n",
              "            });\n",
              "        }\n",
              "    "
            ]
          },
          "metadata": {}
        },
        {
          "output_type": "stream",
          "name": "stdout",
          "text": [
            "✅ 26 프레임 수집됨\r"
          ]
        },
        {
          "output_type": "display_data",
          "data": {
            "text/plain": [
              "<IPython.core.display.Javascript object>"
            ],
            "application/javascript": [
              "\n",
              "        async function startStream() {\n",
              "            const video = document.createElement('video');\n",
              "            const canvas = document.createElement('canvas');\n",
              "            const ctx = canvas.getContext('2d');\n",
              "            const stream = await navigator.mediaDevices.getUserMedia({ video: true });\n",
              "\n",
              "            video.srcObject = stream;\n",
              "            await video.play();\n",
              "\n",
              "            document.body.appendChild(video);\n",
              "            document.body.appendChild(canvas);\n",
              "            canvas.width = video.videoWidth;\n",
              "            canvas.height = video.videoHeight;\n",
              "\n",
              "            function captureFrame() {\n",
              "                ctx.drawImage(video, 0, 0, canvas.width, canvas.height);\n",
              "                return canvas.toDataURL('image/jpeg', 0.8);\n",
              "            }\n",
              "\n",
              "            return new Promise((resolve) => {\n",
              "                setInterval(() => resolve(captureFrame()), 100);\n",
              "            });\n",
              "        }\n",
              "    "
            ]
          },
          "metadata": {}
        },
        {
          "output_type": "stream",
          "name": "stdout",
          "text": [
            "✅ 27 프레임 수집됨\r"
          ]
        },
        {
          "output_type": "display_data",
          "data": {
            "text/plain": [
              "<IPython.core.display.Javascript object>"
            ],
            "application/javascript": [
              "\n",
              "        async function startStream() {\n",
              "            const video = document.createElement('video');\n",
              "            const canvas = document.createElement('canvas');\n",
              "            const ctx = canvas.getContext('2d');\n",
              "            const stream = await navigator.mediaDevices.getUserMedia({ video: true });\n",
              "\n",
              "            video.srcObject = stream;\n",
              "            await video.play();\n",
              "\n",
              "            document.body.appendChild(video);\n",
              "            document.body.appendChild(canvas);\n",
              "            canvas.width = video.videoWidth;\n",
              "            canvas.height = video.videoHeight;\n",
              "\n",
              "            function captureFrame() {\n",
              "                ctx.drawImage(video, 0, 0, canvas.width, canvas.height);\n",
              "                return canvas.toDataURL('image/jpeg', 0.8);\n",
              "            }\n",
              "\n",
              "            return new Promise((resolve) => {\n",
              "                setInterval(() => resolve(captureFrame()), 100);\n",
              "            });\n",
              "        }\n",
              "    "
            ]
          },
          "metadata": {}
        },
        {
          "output_type": "stream",
          "name": "stdout",
          "text": [
            "✅ 28 프레임 수집됨\r"
          ]
        },
        {
          "output_type": "display_data",
          "data": {
            "text/plain": [
              "<IPython.core.display.Javascript object>"
            ],
            "application/javascript": [
              "\n",
              "        async function startStream() {\n",
              "            const video = document.createElement('video');\n",
              "            const canvas = document.createElement('canvas');\n",
              "            const ctx = canvas.getContext('2d');\n",
              "            const stream = await navigator.mediaDevices.getUserMedia({ video: true });\n",
              "\n",
              "            video.srcObject = stream;\n",
              "            await video.play();\n",
              "\n",
              "            document.body.appendChild(video);\n",
              "            document.body.appendChild(canvas);\n",
              "            canvas.width = video.videoWidth;\n",
              "            canvas.height = video.videoHeight;\n",
              "\n",
              "            function captureFrame() {\n",
              "                ctx.drawImage(video, 0, 0, canvas.width, canvas.height);\n",
              "                return canvas.toDataURL('image/jpeg', 0.8);\n",
              "            }\n",
              "\n",
              "            return new Promise((resolve) => {\n",
              "                setInterval(() => resolve(captureFrame()), 100);\n",
              "            });\n",
              "        }\n",
              "    "
            ]
          },
          "metadata": {}
        },
        {
          "output_type": "stream",
          "name": "stdout",
          "text": [
            "✅ 29 프레임 수집됨\r"
          ]
        },
        {
          "output_type": "display_data",
          "data": {
            "text/plain": [
              "<IPython.core.display.Javascript object>"
            ],
            "application/javascript": [
              "\n",
              "        async function startStream() {\n",
              "            const video = document.createElement('video');\n",
              "            const canvas = document.createElement('canvas');\n",
              "            const ctx = canvas.getContext('2d');\n",
              "            const stream = await navigator.mediaDevices.getUserMedia({ video: true });\n",
              "\n",
              "            video.srcObject = stream;\n",
              "            await video.play();\n",
              "\n",
              "            document.body.appendChild(video);\n",
              "            document.body.appendChild(canvas);\n",
              "            canvas.width = video.videoWidth;\n",
              "            canvas.height = video.videoHeight;\n",
              "\n",
              "            function captureFrame() {\n",
              "                ctx.drawImage(video, 0, 0, canvas.width, canvas.height);\n",
              "                return canvas.toDataURL('image/jpeg', 0.8);\n",
              "            }\n",
              "\n",
              "            return new Promise((resolve) => {\n",
              "                setInterval(() => resolve(captureFrame()), 100);\n",
              "            });\n",
              "        }\n",
              "    "
            ]
          },
          "metadata": {}
        },
        {
          "output_type": "stream",
          "name": "stdout",
          "text": [
            "✅ 30 프레임 수집됨\r"
          ]
        },
        {
          "output_type": "display_data",
          "data": {
            "text/plain": [
              "<IPython.core.display.Javascript object>"
            ],
            "application/javascript": [
              "\n",
              "        async function startStream() {\n",
              "            const video = document.createElement('video');\n",
              "            const canvas = document.createElement('canvas');\n",
              "            const ctx = canvas.getContext('2d');\n",
              "            const stream = await navigator.mediaDevices.getUserMedia({ video: true });\n",
              "\n",
              "            video.srcObject = stream;\n",
              "            await video.play();\n",
              "\n",
              "            document.body.appendChild(video);\n",
              "            document.body.appendChild(canvas);\n",
              "            canvas.width = video.videoWidth;\n",
              "            canvas.height = video.videoHeight;\n",
              "\n",
              "            function captureFrame() {\n",
              "                ctx.drawImage(video, 0, 0, canvas.width, canvas.height);\n",
              "                return canvas.toDataURL('image/jpeg', 0.8);\n",
              "            }\n",
              "\n",
              "            return new Promise((resolve) => {\n",
              "                setInterval(() => resolve(captureFrame()), 100);\n",
              "            });\n",
              "        }\n",
              "    "
            ]
          },
          "metadata": {}
        },
        {
          "output_type": "stream",
          "name": "stdout",
          "text": [
            "✅ 31 프레임 수집됨\r"
          ]
        },
        {
          "output_type": "display_data",
          "data": {
            "text/plain": [
              "<IPython.core.display.Javascript object>"
            ],
            "application/javascript": [
              "\n",
              "        async function startStream() {\n",
              "            const video = document.createElement('video');\n",
              "            const canvas = document.createElement('canvas');\n",
              "            const ctx = canvas.getContext('2d');\n",
              "            const stream = await navigator.mediaDevices.getUserMedia({ video: true });\n",
              "\n",
              "            video.srcObject = stream;\n",
              "            await video.play();\n",
              "\n",
              "            document.body.appendChild(video);\n",
              "            document.body.appendChild(canvas);\n",
              "            canvas.width = video.videoWidth;\n",
              "            canvas.height = video.videoHeight;\n",
              "\n",
              "            function captureFrame() {\n",
              "                ctx.drawImage(video, 0, 0, canvas.width, canvas.height);\n",
              "                return canvas.toDataURL('image/jpeg', 0.8);\n",
              "            }\n",
              "\n",
              "            return new Promise((resolve) => {\n",
              "                setInterval(() => resolve(captureFrame()), 100);\n",
              "            });\n",
              "        }\n",
              "    "
            ]
          },
          "metadata": {}
        },
        {
          "output_type": "stream",
          "name": "stdout",
          "text": [
            "✅ 32 프레임 수집됨\r"
          ]
        },
        {
          "output_type": "display_data",
          "data": {
            "text/plain": [
              "<IPython.core.display.Javascript object>"
            ],
            "application/javascript": [
              "\n",
              "        async function startStream() {\n",
              "            const video = document.createElement('video');\n",
              "            const canvas = document.createElement('canvas');\n",
              "            const ctx = canvas.getContext('2d');\n",
              "            const stream = await navigator.mediaDevices.getUserMedia({ video: true });\n",
              "\n",
              "            video.srcObject = stream;\n",
              "            await video.play();\n",
              "\n",
              "            document.body.appendChild(video);\n",
              "            document.body.appendChild(canvas);\n",
              "            canvas.width = video.videoWidth;\n",
              "            canvas.height = video.videoHeight;\n",
              "\n",
              "            function captureFrame() {\n",
              "                ctx.drawImage(video, 0, 0, canvas.width, canvas.height);\n",
              "                return canvas.toDataURL('image/jpeg', 0.8);\n",
              "            }\n",
              "\n",
              "            return new Promise((resolve) => {\n",
              "                setInterval(() => resolve(captureFrame()), 100);\n",
              "            });\n",
              "        }\n",
              "    "
            ]
          },
          "metadata": {}
        },
        {
          "output_type": "stream",
          "name": "stdout",
          "text": [
            "✅ 33 프레임 수집됨\r"
          ]
        },
        {
          "output_type": "display_data",
          "data": {
            "text/plain": [
              "<IPython.core.display.Javascript object>"
            ],
            "application/javascript": [
              "\n",
              "        async function startStream() {\n",
              "            const video = document.createElement('video');\n",
              "            const canvas = document.createElement('canvas');\n",
              "            const ctx = canvas.getContext('2d');\n",
              "            const stream = await navigator.mediaDevices.getUserMedia({ video: true });\n",
              "\n",
              "            video.srcObject = stream;\n",
              "            await video.play();\n",
              "\n",
              "            document.body.appendChild(video);\n",
              "            document.body.appendChild(canvas);\n",
              "            canvas.width = video.videoWidth;\n",
              "            canvas.height = video.videoHeight;\n",
              "\n",
              "            function captureFrame() {\n",
              "                ctx.drawImage(video, 0, 0, canvas.width, canvas.height);\n",
              "                return canvas.toDataURL('image/jpeg', 0.8);\n",
              "            }\n",
              "\n",
              "            return new Promise((resolve) => {\n",
              "                setInterval(() => resolve(captureFrame()), 100);\n",
              "            });\n",
              "        }\n",
              "    "
            ]
          },
          "metadata": {}
        },
        {
          "output_type": "stream",
          "name": "stdout",
          "text": [
            "✅ 34 프레임 수집됨\r"
          ]
        },
        {
          "output_type": "display_data",
          "data": {
            "text/plain": [
              "<IPython.core.display.Javascript object>"
            ],
            "application/javascript": [
              "\n",
              "        async function startStream() {\n",
              "            const video = document.createElement('video');\n",
              "            const canvas = document.createElement('canvas');\n",
              "            const ctx = canvas.getContext('2d');\n",
              "            const stream = await navigator.mediaDevices.getUserMedia({ video: true });\n",
              "\n",
              "            video.srcObject = stream;\n",
              "            await video.play();\n",
              "\n",
              "            document.body.appendChild(video);\n",
              "            document.body.appendChild(canvas);\n",
              "            canvas.width = video.videoWidth;\n",
              "            canvas.height = video.videoHeight;\n",
              "\n",
              "            function captureFrame() {\n",
              "                ctx.drawImage(video, 0, 0, canvas.width, canvas.height);\n",
              "                return canvas.toDataURL('image/jpeg', 0.8);\n",
              "            }\n",
              "\n",
              "            return new Promise((resolve) => {\n",
              "                setInterval(() => resolve(captureFrame()), 100);\n",
              "            });\n",
              "        }\n",
              "    "
            ]
          },
          "metadata": {}
        },
        {
          "output_type": "stream",
          "name": "stdout",
          "text": [
            "✅ 35 프레임 수집됨\r"
          ]
        },
        {
          "output_type": "display_data",
          "data": {
            "text/plain": [
              "<IPython.core.display.Javascript object>"
            ],
            "application/javascript": [
              "\n",
              "        async function startStream() {\n",
              "            const video = document.createElement('video');\n",
              "            const canvas = document.createElement('canvas');\n",
              "            const ctx = canvas.getContext('2d');\n",
              "            const stream = await navigator.mediaDevices.getUserMedia({ video: true });\n",
              "\n",
              "            video.srcObject = stream;\n",
              "            await video.play();\n",
              "\n",
              "            document.body.appendChild(video);\n",
              "            document.body.appendChild(canvas);\n",
              "            canvas.width = video.videoWidth;\n",
              "            canvas.height = video.videoHeight;\n",
              "\n",
              "            function captureFrame() {\n",
              "                ctx.drawImage(video, 0, 0, canvas.width, canvas.height);\n",
              "                return canvas.toDataURL('image/jpeg', 0.8);\n",
              "            }\n",
              "\n",
              "            return new Promise((resolve) => {\n",
              "                setInterval(() => resolve(captureFrame()), 100);\n",
              "            });\n",
              "        }\n",
              "    "
            ]
          },
          "metadata": {}
        },
        {
          "output_type": "stream",
          "name": "stdout",
          "text": [
            "✅ 36 프레임 수집됨\r"
          ]
        },
        {
          "output_type": "display_data",
          "data": {
            "text/plain": [
              "<IPython.core.display.Javascript object>"
            ],
            "application/javascript": [
              "\n",
              "        async function startStream() {\n",
              "            const video = document.createElement('video');\n",
              "            const canvas = document.createElement('canvas');\n",
              "            const ctx = canvas.getContext('2d');\n",
              "            const stream = await navigator.mediaDevices.getUserMedia({ video: true });\n",
              "\n",
              "            video.srcObject = stream;\n",
              "            await video.play();\n",
              "\n",
              "            document.body.appendChild(video);\n",
              "            document.body.appendChild(canvas);\n",
              "            canvas.width = video.videoWidth;\n",
              "            canvas.height = video.videoHeight;\n",
              "\n",
              "            function captureFrame() {\n",
              "                ctx.drawImage(video, 0, 0, canvas.width, canvas.height);\n",
              "                return canvas.toDataURL('image/jpeg', 0.8);\n",
              "            }\n",
              "\n",
              "            return new Promise((resolve) => {\n",
              "                setInterval(() => resolve(captureFrame()), 100);\n",
              "            });\n",
              "        }\n",
              "    "
            ]
          },
          "metadata": {}
        },
        {
          "output_type": "stream",
          "name": "stdout",
          "text": [
            "✅ 37 프레임 수집됨\r\n",
            "✅ 프레임 수집 완료! 총 37 프레임\n"
          ]
        }
      ]
    },
    {
      "cell_type": "code",
      "source": [
        "mp_pose = mp.solutions.pose\n",
        "pose = mp_pose.Pose()\n",
        "landmark_list = []\n",
        "\n",
        "for idx, frame in enumerate(captured_frames):\n",
        "    image_rgb = cv2.cvtColor(frame, cv2.COLOR_BGR2RGB)\n",
        "    results = pose.process(image_rgb)\n",
        "\n",
        "    if results.pose_landmarks:\n",
        "        landmarks = [[lm.x, lm.y, lm.z] for lm in results.pose_landmarks.landmark]\n",
        "        landmark_list.append(landmarks)\n",
        "        print(f\"✅ 프레임 {idx+1}: 포즈 추출 완료\")\n",
        "    else:\n",
        "        print(f\"⛔ 프레임 {idx+1}: 포즈 인식 실패\")\n",
        "\n",
        "# 저장\n",
        "live_pose = np.array(landmark_list)\n",
        "np.save(\"live_pose.npy\", live_pose)\n",
        "print(f\"💾 좌표 저장 완료! 저장된 프레임 수: {len(live_pose)}\")\n"
      ],
      "metadata": {
        "colab": {
          "base_uri": "https://localhost:8080/"
        },
        "id": "eVHLD5zL-ik3",
        "outputId": "be02b6a3-3cfe-4bee-e39b-94265bf2faef"
      },
      "execution_count": 6,
      "outputs": [
        {
          "output_type": "stream",
          "name": "stdout",
          "text": [
            "⛔ 프레임 1: 포즈 인식 실패\n",
            "⛔ 프레임 2: 포즈 인식 실패\n",
            "⛔ 프레임 3: 포즈 인식 실패\n",
            "⛔ 프레임 4: 포즈 인식 실패\n",
            "⛔ 프레임 5: 포즈 인식 실패\n",
            "⛔ 프레임 6: 포즈 인식 실패\n",
            "⛔ 프레임 7: 포즈 인식 실패\n",
            "⛔ 프레임 8: 포즈 인식 실패\n",
            "⛔ 프레임 9: 포즈 인식 실패\n",
            "⛔ 프레임 10: 포즈 인식 실패\n",
            "⛔ 프레임 11: 포즈 인식 실패\n",
            "⛔ 프레임 12: 포즈 인식 실패\n",
            "⛔ 프레임 13: 포즈 인식 실패\n",
            "⛔ 프레임 14: 포즈 인식 실패\n",
            "⛔ 프레임 15: 포즈 인식 실패\n",
            "⛔ 프레임 16: 포즈 인식 실패\n",
            "✅ 프레임 17: 포즈 추출 완료\n",
            "✅ 프레임 18: 포즈 추출 완료\n",
            "✅ 프레임 19: 포즈 추출 완료\n",
            "⛔ 프레임 20: 포즈 인식 실패\n",
            "⛔ 프레임 21: 포즈 인식 실패\n",
            "⛔ 프레임 22: 포즈 인식 실패\n",
            "⛔ 프레임 23: 포즈 인식 실패\n",
            "⛔ 프레임 24: 포즈 인식 실패\n",
            "⛔ 프레임 25: 포즈 인식 실패\n",
            "⛔ 프레임 26: 포즈 인식 실패\n",
            "⛔ 프레임 27: 포즈 인식 실패\n",
            "⛔ 프레임 28: 포즈 인식 실패\n",
            "⛔ 프레임 29: 포즈 인식 실패\n",
            "⛔ 프레임 30: 포즈 인식 실패\n",
            "⛔ 프레임 31: 포즈 인식 실패\n",
            "⛔ 프레임 32: 포즈 인식 실패\n",
            "⛔ 프레임 33: 포즈 인식 실패\n",
            "⛔ 프레임 34: 포즈 인식 실패\n",
            "⛔ 프레임 35: 포즈 인식 실패\n",
            "⛔ 프레임 36: 포즈 인식 실패\n",
            "⛔ 프레임 37: 포즈 인식 실패\n",
            "💾 좌표 저장 완료! 저장된 프레임 수: 3\n"
          ]
        }
      ]
    },
    {
      "cell_type": "code",
      "source": [
        "live_pose = np.array(landmark_list)\n",
        "np.save(\"live_pose.npy\", live_pose)"
      ],
      "metadata": {
        "id": "RpzIBiEZ-sjs"
      },
      "execution_count": 7,
      "outputs": []
    },
    {
      "cell_type": "code",
      "source": [
        "# 📚 필요한 라이브러리\n",
        "!pip install fastdtw\n",
        "\n",
        "import numpy as np\n",
        "from fastdtw import fastdtw\n",
        "from scipy.spatial.distance import euclidean\n",
        "\n",
        "# 파일 불러오기\n",
        "reference = np.load(\"reference_pose.npy\")\n",
        "live = np.load(\"live_pose.npy\")\n",
        "\n",
        "# [프레임 수, 33, 3] → [프레임 수, 99] 평탄화\n",
        "reference_flat = reference.reshape(reference.shape[0], -1)\n",
        "live_flat = live.reshape(live.shape[0], -1)\n",
        "\n",
        "# DTW 거리 계산\n",
        "distance, _ = fastdtw(live_flat, reference_flat, dist=euclidean)\n",
        "\n",
        "print(f\"\\n📏 FastDTW 거리: {distance:.2f}\")"
      ],
      "metadata": {
        "colab": {
          "base_uri": "https://localhost:8080/",
          "height": 382
        },
        "id": "p-8zid96DFrI",
        "outputId": "5e06d882-4033-4904-fe6c-84b58ea5f6e6"
      },
      "execution_count": 9,
      "outputs": [
        {
          "output_type": "stream",
          "name": "stdout",
          "text": [
            "Requirement already satisfied: fastdtw in /usr/local/lib/python3.11/dist-packages (0.3.4)\n",
            "Requirement already satisfied: numpy in /usr/local/lib/python3.11/dist-packages (from fastdtw) (1.26.4)\n"
          ]
        },
        {
          "output_type": "error",
          "ename": "FileNotFoundError",
          "evalue": "[Errno 2] No such file or directory: 'reference_pose.npy'",
          "traceback": [
            "\u001b[0;31m---------------------------------------------------------------------------\u001b[0m",
            "\u001b[0;31mFileNotFoundError\u001b[0m                         Traceback (most recent call last)",
            "\u001b[0;32m/tmp/ipython-input-9-2720872244.py\u001b[0m in \u001b[0;36m<cell line: 0>\u001b[0;34m()\u001b[0m\n\u001b[1;32m      7\u001b[0m \u001b[0;34m\u001b[0m\u001b[0m\n\u001b[1;32m      8\u001b[0m \u001b[0;31m# 파일 불러오기\u001b[0m\u001b[0;34m\u001b[0m\u001b[0;34m\u001b[0m\u001b[0m\n\u001b[0;32m----> 9\u001b[0;31m \u001b[0mreference\u001b[0m \u001b[0;34m=\u001b[0m \u001b[0mnp\u001b[0m\u001b[0;34m.\u001b[0m\u001b[0mload\u001b[0m\u001b[0;34m(\u001b[0m\u001b[0;34m\"reference_pose.npy\"\u001b[0m\u001b[0;34m)\u001b[0m\u001b[0;34m\u001b[0m\u001b[0;34m\u001b[0m\u001b[0m\n\u001b[0m\u001b[1;32m     10\u001b[0m \u001b[0mlive\u001b[0m \u001b[0;34m=\u001b[0m \u001b[0mnp\u001b[0m\u001b[0;34m.\u001b[0m\u001b[0mload\u001b[0m\u001b[0;34m(\u001b[0m\u001b[0;34m\"live_pose.npy\"\u001b[0m\u001b[0;34m)\u001b[0m\u001b[0;34m\u001b[0m\u001b[0;34m\u001b[0m\u001b[0m\n\u001b[1;32m     11\u001b[0m \u001b[0;34m\u001b[0m\u001b[0m\n",
            "\u001b[0;32m/usr/local/lib/python3.11/dist-packages/numpy/lib/npyio.py\u001b[0m in \u001b[0;36mload\u001b[0;34m(file, mmap_mode, allow_pickle, fix_imports, encoding, max_header_size)\u001b[0m\n\u001b[1;32m    425\u001b[0m             \u001b[0mown_fid\u001b[0m \u001b[0;34m=\u001b[0m \u001b[0;32mFalse\u001b[0m\u001b[0;34m\u001b[0m\u001b[0;34m\u001b[0m\u001b[0m\n\u001b[1;32m    426\u001b[0m         \u001b[0;32melse\u001b[0m\u001b[0;34m:\u001b[0m\u001b[0;34m\u001b[0m\u001b[0;34m\u001b[0m\u001b[0m\n\u001b[0;32m--> 427\u001b[0;31m             \u001b[0mfid\u001b[0m \u001b[0;34m=\u001b[0m \u001b[0mstack\u001b[0m\u001b[0;34m.\u001b[0m\u001b[0menter_context\u001b[0m\u001b[0;34m(\u001b[0m\u001b[0mopen\u001b[0m\u001b[0;34m(\u001b[0m\u001b[0mos_fspath\u001b[0m\u001b[0;34m(\u001b[0m\u001b[0mfile\u001b[0m\u001b[0;34m)\u001b[0m\u001b[0;34m,\u001b[0m \u001b[0;34m\"rb\"\u001b[0m\u001b[0;34m)\u001b[0m\u001b[0;34m)\u001b[0m\u001b[0;34m\u001b[0m\u001b[0;34m\u001b[0m\u001b[0m\n\u001b[0m\u001b[1;32m    428\u001b[0m             \u001b[0mown_fid\u001b[0m \u001b[0;34m=\u001b[0m \u001b[0;32mTrue\u001b[0m\u001b[0;34m\u001b[0m\u001b[0;34m\u001b[0m\u001b[0m\n\u001b[1;32m    429\u001b[0m \u001b[0;34m\u001b[0m\u001b[0m\n",
            "\u001b[0;31mFileNotFoundError\u001b[0m: [Errno 2] No such file or directory: 'reference_pose.npy'"
          ]
        }
      ]
    },
    {
      "cell_type": "code",
      "source": [
        "import matplotlib.pyplot as plt\n",
        "import matplotlib.animation as animation\n",
        "import numpy as np\n",
        "import mediapipe as mp\n",
        "\n",
        "# 데이터 로드\n",
        "live_pose = np.load(\"live_pose.npy\")  # shape = [프레임 수, 33, 3]\n",
        "\n",
        "# Mediapipe 연결 정보\n",
        "mp_pose = mp.solutions.pose\n",
        "connections = mp_pose.POSE_CONNECTIONS\n",
        "\n",
        "fig, ax = plt.subplots(figsize=(5, 5))\n",
        "points, = ax.plot([], [], 'ro', markersize=4)\n",
        "lines = [ax.plot([], [], 'b-')[0] for _ in connections]\n",
        "\n",
        "def init():\n",
        "    ax.set_xlim(0, 1)\n",
        "    ax.set_ylim(1, 0)\n",
        "    ax.axis('off')\n",
        "    return [points] + lines\n",
        "\n",
        "def update(frame_idx):\n",
        "    landmarks = live_pose[frame_idx]\n",
        "    xs = [lm[0] for lm in landmarks]\n",
        "    ys = [lm[1] for lm in landmarks]\n",
        "\n",
        "    points.set_data(xs, ys)\n",
        "    for i, (start, end) in enumerate(connections):\n",
        "        x_line = [landmarks[start][0], landmarks[end][0]]\n",
        "        y_line = [landmarks[start][1], landmarks[end][1]]\n",
        "        lines[i].set_data(x_line, y_line)\n",
        "\n",
        "    return [points] + lines\n",
        "\n",
        "ani = animation.FuncAnimation(fig, update, frames=len(live_pose), init_func=init, interval=50, blit=True)\n",
        "plt.close()\n",
        "\n",
        "from IPython.display import HTML\n",
        "HTML(ani.to_jshtml())"
      ],
      "metadata": {
        "colab": {
          "base_uri": "https://localhost:8080/",
          "height": 596
        },
        "id": "4LPWk-MREKtX",
        "outputId": "f9ef5ee1-7f8f-4c8b-dbb6-94348aaf4cc1"
      },
      "execution_count": 10,
      "outputs": [
        {
          "output_type": "execute_result",
          "data": {
            "text/plain": [
              "<IPython.core.display.HTML object>"
            ],
            "text/html": [
              "\n",
              "<link rel=\"stylesheet\"\n",
              "href=\"https://maxcdn.bootstrapcdn.com/font-awesome/4.4.0/css/font-awesome.min.css\">\n",
              "<script language=\"javascript\">\n",
              "  function isInternetExplorer() {\n",
              "    ua = navigator.userAgent;\n",
              "    /* MSIE used to detect old browsers and Trident used to newer ones*/\n",
              "    return ua.indexOf(\"MSIE \") > -1 || ua.indexOf(\"Trident/\") > -1;\n",
              "  }\n",
              "\n",
              "  /* Define the Animation class */\n",
              "  function Animation(frames, img_id, slider_id, interval, loop_select_id){\n",
              "    this.img_id = img_id;\n",
              "    this.slider_id = slider_id;\n",
              "    this.loop_select_id = loop_select_id;\n",
              "    this.interval = interval;\n",
              "    this.current_frame = 0;\n",
              "    this.direction = 0;\n",
              "    this.timer = null;\n",
              "    this.frames = new Array(frames.length);\n",
              "\n",
              "    for (var i=0; i<frames.length; i++)\n",
              "    {\n",
              "     this.frames[i] = new Image();\n",
              "     this.frames[i].src = frames[i];\n",
              "    }\n",
              "    var slider = document.getElementById(this.slider_id);\n",
              "    slider.max = this.frames.length - 1;\n",
              "    if (isInternetExplorer()) {\n",
              "        // switch from oninput to onchange because IE <= 11 does not conform\n",
              "        // with W3C specification. It ignores oninput and onchange behaves\n",
              "        // like oninput. In contrast, Microsoft Edge behaves correctly.\n",
              "        slider.setAttribute('onchange', slider.getAttribute('oninput'));\n",
              "        slider.setAttribute('oninput', null);\n",
              "    }\n",
              "    this.set_frame(this.current_frame);\n",
              "  }\n",
              "\n",
              "  Animation.prototype.get_loop_state = function(){\n",
              "    var button_group = document[this.loop_select_id].state;\n",
              "    for (var i = 0; i < button_group.length; i++) {\n",
              "        var button = button_group[i];\n",
              "        if (button.checked) {\n",
              "            return button.value;\n",
              "        }\n",
              "    }\n",
              "    return undefined;\n",
              "  }\n",
              "\n",
              "  Animation.prototype.set_frame = function(frame){\n",
              "    this.current_frame = frame;\n",
              "    document.getElementById(this.img_id).src =\n",
              "            this.frames[this.current_frame].src;\n",
              "    document.getElementById(this.slider_id).value = this.current_frame;\n",
              "  }\n",
              "\n",
              "  Animation.prototype.next_frame = function()\n",
              "  {\n",
              "    this.set_frame(Math.min(this.frames.length - 1, this.current_frame + 1));\n",
              "  }\n",
              "\n",
              "  Animation.prototype.previous_frame = function()\n",
              "  {\n",
              "    this.set_frame(Math.max(0, this.current_frame - 1));\n",
              "  }\n",
              "\n",
              "  Animation.prototype.first_frame = function()\n",
              "  {\n",
              "    this.set_frame(0);\n",
              "  }\n",
              "\n",
              "  Animation.prototype.last_frame = function()\n",
              "  {\n",
              "    this.set_frame(this.frames.length - 1);\n",
              "  }\n",
              "\n",
              "  Animation.prototype.slower = function()\n",
              "  {\n",
              "    this.interval /= 0.7;\n",
              "    if(this.direction > 0){this.play_animation();}\n",
              "    else if(this.direction < 0){this.reverse_animation();}\n",
              "  }\n",
              "\n",
              "  Animation.prototype.faster = function()\n",
              "  {\n",
              "    this.interval *= 0.7;\n",
              "    if(this.direction > 0){this.play_animation();}\n",
              "    else if(this.direction < 0){this.reverse_animation();}\n",
              "  }\n",
              "\n",
              "  Animation.prototype.anim_step_forward = function()\n",
              "  {\n",
              "    this.current_frame += 1;\n",
              "    if(this.current_frame < this.frames.length){\n",
              "      this.set_frame(this.current_frame);\n",
              "    }else{\n",
              "      var loop_state = this.get_loop_state();\n",
              "      if(loop_state == \"loop\"){\n",
              "        this.first_frame();\n",
              "      }else if(loop_state == \"reflect\"){\n",
              "        this.last_frame();\n",
              "        this.reverse_animation();\n",
              "      }else{\n",
              "        this.pause_animation();\n",
              "        this.last_frame();\n",
              "      }\n",
              "    }\n",
              "  }\n",
              "\n",
              "  Animation.prototype.anim_step_reverse = function()\n",
              "  {\n",
              "    this.current_frame -= 1;\n",
              "    if(this.current_frame >= 0){\n",
              "      this.set_frame(this.current_frame);\n",
              "    }else{\n",
              "      var loop_state = this.get_loop_state();\n",
              "      if(loop_state == \"loop\"){\n",
              "        this.last_frame();\n",
              "      }else if(loop_state == \"reflect\"){\n",
              "        this.first_frame();\n",
              "        this.play_animation();\n",
              "      }else{\n",
              "        this.pause_animation();\n",
              "        this.first_frame();\n",
              "      }\n",
              "    }\n",
              "  }\n",
              "\n",
              "  Animation.prototype.pause_animation = function()\n",
              "  {\n",
              "    this.direction = 0;\n",
              "    if (this.timer){\n",
              "      clearInterval(this.timer);\n",
              "      this.timer = null;\n",
              "    }\n",
              "  }\n",
              "\n",
              "  Animation.prototype.play_animation = function()\n",
              "  {\n",
              "    this.pause_animation();\n",
              "    this.direction = 1;\n",
              "    var t = this;\n",
              "    if (!this.timer) this.timer = setInterval(function() {\n",
              "        t.anim_step_forward();\n",
              "    }, this.interval);\n",
              "  }\n",
              "\n",
              "  Animation.prototype.reverse_animation = function()\n",
              "  {\n",
              "    this.pause_animation();\n",
              "    this.direction = -1;\n",
              "    var t = this;\n",
              "    if (!this.timer) this.timer = setInterval(function() {\n",
              "        t.anim_step_reverse();\n",
              "    }, this.interval);\n",
              "  }\n",
              "</script>\n",
              "\n",
              "<style>\n",
              ".animation {\n",
              "    display: inline-block;\n",
              "    text-align: center;\n",
              "}\n",
              "input[type=range].anim-slider {\n",
              "    width: 374px;\n",
              "    margin-left: auto;\n",
              "    margin-right: auto;\n",
              "}\n",
              ".anim-buttons {\n",
              "    margin: 8px 0px;\n",
              "}\n",
              ".anim-buttons button {\n",
              "    padding: 0;\n",
              "    width: 36px;\n",
              "}\n",
              ".anim-state label {\n",
              "    margin-right: 8px;\n",
              "}\n",
              ".anim-state input {\n",
              "    margin: 0;\n",
              "    vertical-align: middle;\n",
              "}\n",
              "</style>\n",
              "\n",
              "<div class=\"animation\">\n",
              "  <img id=\"_anim_img9adc046937144cd58b14d83b5050274a\">\n",
              "  <div class=\"anim-controls\">\n",
              "    <input id=\"_anim_slider9adc046937144cd58b14d83b5050274a\" type=\"range\" class=\"anim-slider\"\n",
              "           name=\"points\" min=\"0\" max=\"1\" step=\"1\" value=\"0\"\n",
              "           oninput=\"anim9adc046937144cd58b14d83b5050274a.set_frame(parseInt(this.value));\">\n",
              "    <div class=\"anim-buttons\">\n",
              "      <button title=\"Decrease speed\" aria-label=\"Decrease speed\" onclick=\"anim9adc046937144cd58b14d83b5050274a.slower()\">\n",
              "          <i class=\"fa fa-minus\"></i></button>\n",
              "      <button title=\"First frame\" aria-label=\"First frame\" onclick=\"anim9adc046937144cd58b14d83b5050274a.first_frame()\">\n",
              "        <i class=\"fa fa-fast-backward\"></i></button>\n",
              "      <button title=\"Previous frame\" aria-label=\"Previous frame\" onclick=\"anim9adc046937144cd58b14d83b5050274a.previous_frame()\">\n",
              "          <i class=\"fa fa-step-backward\"></i></button>\n",
              "      <button title=\"Play backwards\" aria-label=\"Play backwards\" onclick=\"anim9adc046937144cd58b14d83b5050274a.reverse_animation()\">\n",
              "          <i class=\"fa fa-play fa-flip-horizontal\"></i></button>\n",
              "      <button title=\"Pause\" aria-label=\"Pause\" onclick=\"anim9adc046937144cd58b14d83b5050274a.pause_animation()\">\n",
              "          <i class=\"fa fa-pause\"></i></button>\n",
              "      <button title=\"Play\" aria-label=\"Play\" onclick=\"anim9adc046937144cd58b14d83b5050274a.play_animation()\">\n",
              "          <i class=\"fa fa-play\"></i></button>\n",
              "      <button title=\"Next frame\" aria-label=\"Next frame\" onclick=\"anim9adc046937144cd58b14d83b5050274a.next_frame()\">\n",
              "          <i class=\"fa fa-step-forward\"></i></button>\n",
              "      <button title=\"Last frame\" aria-label=\"Last frame\" onclick=\"anim9adc046937144cd58b14d83b5050274a.last_frame()\">\n",
              "          <i class=\"fa fa-fast-forward\"></i></button>\n",
              "      <button title=\"Increase speed\" aria-label=\"Increase speed\" onclick=\"anim9adc046937144cd58b14d83b5050274a.faster()\">\n",
              "          <i class=\"fa fa-plus\"></i></button>\n",
              "    </div>\n",
              "    <form title=\"Repetition mode\" aria-label=\"Repetition mode\" action=\"#n\" name=\"_anim_loop_select9adc046937144cd58b14d83b5050274a\"\n",
              "          class=\"anim-state\">\n",
              "      <input type=\"radio\" name=\"state\" value=\"once\" id=\"_anim_radio1_9adc046937144cd58b14d83b5050274a\"\n",
              "             >\n",
              "      <label for=\"_anim_radio1_9adc046937144cd58b14d83b5050274a\">Once</label>\n",
              "      <input type=\"radio\" name=\"state\" value=\"loop\" id=\"_anim_radio2_9adc046937144cd58b14d83b5050274a\"\n",
              "             checked>\n",
              "      <label for=\"_anim_radio2_9adc046937144cd58b14d83b5050274a\">Loop</label>\n",
              "      <input type=\"radio\" name=\"state\" value=\"reflect\" id=\"_anim_radio3_9adc046937144cd58b14d83b5050274a\"\n",
              "             >\n",
              "      <label for=\"_anim_radio3_9adc046937144cd58b14d83b5050274a\">Reflect</label>\n",
              "    </form>\n",
              "  </div>\n",
              "</div>\n",
              "\n",
              "\n",
              "<script language=\"javascript\">\n",
              "  /* Instantiate the Animation class. */\n",
              "  /* The IDs given should match those used in the template above. */\n",
              "  (function() {\n",
              "    var img_id = \"_anim_img9adc046937144cd58b14d83b5050274a\";\n",
              "    var slider_id = \"_anim_slider9adc046937144cd58b14d83b5050274a\";\n",
              "    var loop_select_id = \"_anim_loop_select9adc046937144cd58b14d83b5050274a\";\n",
              "    var frames = new Array(3);\n",
              "    \n",
              "  frames[0] = \"data:image/png;base64,iVBORw0KGgoAAAANSUhEUgAAAfQAAAH0CAYAAADL1t+KAAAAOnRFWHRTb2Z0d2FyZQBNYXRwbG90\\\n",
              "bGliIHZlcnNpb24zLjEwLjAsIGh0dHBzOi8vbWF0cGxvdGxpYi5vcmcvlHJYcgAAAAlwSFlzAAAP\\\n",
              "YQAAD2EBqD+naQAAH4VJREFUeJzt3XuYXWVh7/HfzuTOJQkKGJAAwkm4hAQ4gopVQJSrgEyUeuNU\\\n",
              "ay1VFMUKWAgGwsWWwKEi9kJbeVT61NoyIAUESoEi9KCtECdRSAAxCZeASEjQTEgys88fKwMRgVxm\\\n",
              "Zu8973w+z8MzeyaTvd7JH3znfde71qrV6/V6AIBBbVizBwAA9J2gA0ABBB0ACiDoAFAAQQeAAgg6\\\n",
              "ABRA0AGgAIIOAAUQdAAogKADQAEEHQAKIOgAUABBB4ACCDoAFEDQAaAAgg4ABRB0ACiAoANAAQQd\\\n",
              "AAog6ABQAEEHgAIIOgAUQNABoACCDgAFEHQAKICgA0ABBB0ACiDoAFAAQQeAAgg6ABRA0AGgAIIO\\\n",
              "AAUQdAAogKADQAEEHQAKIOgAUABBB4ACCDoAFEDQAaAAgg4ABRB0ACiAoANAAQQdAAog6ABQAEEH\\\n",
              "gAIIOgAUQNABoACCDgAFEHQAKICgA0ABBB0ACiDoAFAAQQeAAgg6ABRA0AGgAIIOAAUQdAAogKAD\\\n",
              "QAEEHQAKIOgAUABBB4ACCDoAFEDQAaAAgg4ABRB0ACiAoANAAQQdAAog6ABQAEEHgAIIOgAUQNAB\\\n",
              "oACCDgAFEHQAKICgA0ABBB0ACiDoAFAAQQeAAgg6ABRA0AGgAIIOAAUQdAAogKADQAEEHQAKIOgA\\\n",
              "UABBB4ACCDoAFEDQAaAAgg4ABRB0ACiAoANAAQQdAAog6ABQAEEHgAIIOgAUQNABoACCDgAFEHQA\\\n",
              "KICgA0ABBB0ACiDoAFAAQQeAAgg6ABRA0AGgAIIOAAUQdAAogKADQAEEHQAKIOgAUABBB4ACCDoA\\\n",
              "FEDQAaAAgg4ABRB0ACiAoANAAQQdAAog6ABQAEEHgAIIOgAUQNABoACCDgAFEHQAKICgA0ABBB0A\\\n",
              "CiDoAFAAQQeAAgg6ABRA0AGgAIIOAAUQdAAogKADQAEEHQAKIOgAUABBB4ACCDoAFEDQAaAAgg4A\\\n",
              "BRB0ACiAoANAAQQdAAog6ABQAEEHgAIIOgAUQNABoACCDgAFEHQAKICgA0ABBB0ACiDoAFAAQQeA\\\n",
              "Agg6ABRA0AGgAIIOAAUQdAAogKADQAEEHQAKIOgAUABBB4ACCDoAFEDQAaAAgg4ABRB0ACiAoANA\\\n",
              "AQQdAAog6ABQAEEHgAIIOgAUQNABoACCDgAFEHQAKICgA0ABBB0ACiDoAFAAQQeAAgg6ABRA0AGg\\\n",
              "AIIOAAUQdAAogKADQAEEHQAKIOgAUABBB4ACCDoAFEDQAaAAgg7QLB0dyfTpyciRyZgx1cfp06uv\\\n",
              "wyaq1ev1erMHATDkdHQkM2bk19kyPUkWZefcm7fmpFyd0XkhueaapL292aNkEBF0gGaYPj2ZNy97\\\n",
              "1efnweyR+roF09mZmXNyYbLzzskvftHcMTKoWHIHaIaFC7O2PiyP5Y0vxjxJvpwLMjPnp2fRYkvv\\\n",
              "bBJBB2iGyZMzvNaTu/LOnJE/z7g8++IfXZiZOTh3puvDn6jOrTuvzkaw5A7QDOvOoadWS+r1PJAp\\\n",
              "OT7X56FMfvFb2rIm/5gP5fdrHUm97rw6r8kMHaAZ2turQE+bliTZMwuyMFNyXY7PhPwqSdKdEflg\\\n",
              "/iVn12fn+WyVzJ7dzBHT4szQAZrtZbP1JPnD/H2uyh8mqSVJtstTOXf4hfmjlZdnxIgmjpWWZYYO\\\n",
              "0Gzrz9ZHj05Gj8438kdZmVH5Tk7M7nkoT2f7fHrt5dlnn+S6617sPrzIDB2g1bxsxr46I3NlPpnz\\\n",
              "tr40z6wYlSR5+9uTOXOSt72tyWOlZZihA7Sal83YR07fM5/pOCyPLBmVs8+uNr7fc09y0EHJ+9+f\\\n",
              "PPRQswdMKzBDBxhkHn88mTUrueqqpKcnGT48Ofnk5MtfTrbbrtmjo1kEHWCQmjcv+dKXkptuqj7f\\\n",
              "aqvkzDOT005Lxo5t7thoPEEHGORuvz05/fTkvvuqz3fYobrC7WMfS9ramjo0GkjQAQrQ05P88z8n\\\n",
              "Z5310i3g9947ufji5Kijqv11lE3QAQrywgvJ17+eXHBBsmxZ9bVDD63C/uY3N3dsDCxBByjQsmXJ\\\n",
              "V76SXH55Ffkk+dCHkgsvTHbdtbljY2AIOkDBFi1Kzjkn+fa3q89HjkxOOSWZOTPZZpvmjo3+5Tp0\\\n",
              "YOjq6KieZFbwE8123jn51reqDXOHHZasXp1cdlmy227VjWlWfee64v8NhgozdGDo6ehIvvCFavqa\\\n",
              "pDvD0larF/9Es3o9ufXW5Iwzks7O6muTsijnZVYOyR3Zpbak+H+Dkgk6MLSccUYemtORT+Qf8slc\\\n",
              "mW/m45mfqXksb8zwWk91d7a5c5s9ygHV3Z1cfXUy85NL89iaNyRJxmRlHs7u2aG2dEj8G5RI0IGh\\\n",
              "Y9090g/J7fnPHJox+XVGZU2ey4T8MAfmwPx39XCUrq5mj7QhukZPyFde+HzOz5eT1PJQdsvu+fmQ\\\n",
              "+jcoiXPowNBx3nlJkqWZmCTpypYZkdVJkjtzSHWx9pQpzRpdw42ZMimza+floNyTJLkhxw65f4OS\\\n",
              "CDowdCxcmJUZk4ez+7ov1PPLbJ9kXdDr9eSII5o2vIabNSup13Ni/jVJcm1OqP4NZs1q8sDYHIIO\\\n",
              "DB2TJ2dsunJ/9s3v5a4kL90+7dYcnrVpq+7AMlR2eq97qtvxey5Mktyd38svr7ohOeGEJg+MzSHo\\\n",
              "wNCxbua5T36aH+TgXJ9js2VWJEm6MzyH5+ZqyXn27GaOsrHa27PLz27KfvslPWnLDfVjmj0iNpOg\\\n",
              "A0NH73PGp09PRo/OsbUb84vskuFZkySZl2lZXR+eLFjQ5IE23vveV3289tqmDoM+EHRgaGlvry7J\\\n",
              "6upK9tknr6s9l4XZPePzbJ7Jdrkkpw/JTWG9Qb/11uTXv27qUNhMgg4MXes2he1aW5Kv5dQkyfmZ\\\n",
              "mUdOvrjJA2u8ffZJ3vSm6r7vt97a7NGwOQQdGLp6l+CnTctHRl2Tw7a8N6syJqd87/AMtTt01GqW\\\n",
              "3Qc7N5YBWGfhwmqmunp18p3vJL//+80eUWP94AfJO9+ZjB+fPP10MmJEs0fEpjBDB1hn8uTkrLOq\\\n",
              "15//fPLcc80cTeMddFCy7bbVz33XXc0eDZtK0AHW86UvVWFfujQ5++xmj6ax2tqS446rXlt2H3wE\\\n",
              "HWA9o0Ylf/M31eu//uvkRz9q7ngarfc8+nXXZcjtIxjsBB3gZQ49NDnppCpoJ5+crF3b7BE1zrvf\\\n",
              "nWyxRfL448mPf9zs0bApBB3gFVxySTJhQnXJ+uWXN3s0jTN6dHLUUdVry+6Di6ADvILttkvmzKle\\\n",
              "n3NOsnhxc8fTSOsvuzN4uGwN4FX09CQHH5zcfXe1Wex732v2iBrjueeq3e5r11Z3wZ08udkjYmOY\\\n",
              "oQO8imHDqg1yw4cn118/dGas48dX+wiSofMzl0DQAV7D3nsnp59evf7sZ5Pnn2/ueBql9wmqgj54\\\n",
              "CDrABsycmey6a/LYYy8+gXVw6eionjA3Zkz1cSOe9957Pfq99yZPPjnA46NfCDrABowdm/zVX1Wv\\\n",
              "v/rV5P77mzuejdLRkeyyS1Kr5RczTstxnbOzdNXWSWdnMmNG9WevEfYdd0wOPLC6dO/66xs2avpA\\\n",
              "0AE2wpFHJieeWG2UO/nkpLu72SN6DR0dVbQXLcqPs1/2ygP5txyfSVmSP80l+Xl2TRYtqr7nNaJu\\\n",
              "2X1wscsdYCM9+WSyxx7JihXJFVckp5zS7BG9iunTk87OfCkXZk7OTE/aktST1JIktfTk6nw0H659\\\n",
              "J5k2rbrY/hU8+GCy557VQ1qeeSbZeuuG/QRsBjN0gI00cWJy0UXV67POSp54ornj+R2958o7O9Od\\\n",
              "YfmrfCY9acuIrM5tOSw35ugckZszMqvzrtxeracvWPCqb7fHHsmUKcmaNclNNzXw52CzCDrAJviT\\\n",
              "P6nOLa9YkZx2WrNHs54zzkhmzEhP57x8P0emLT05JjcmSU7NX+aw3JGj8/3cnKOyKDvnDXmqegj6\\\n",
              "lCmv+baW3QcPQQfYBG1tyd/+bfXxu99Nbr652SNKFfN1t7U7PLfk6NyU43Nt9sgDSZJn8/rf+vbt\\\n",
              "83QV83p9g9v2e+8ad9NNyQsv9PvI6UeCDrCJ9t03+dznqtef/nSycmUTB9PRkcyZkxXZKofltvxH\\\n",
              "3pOkluvzvvxNPpUkeSI7vPT9O+9c3bB92rTq7/ZOwV/FAQdUpxqefz65/fYB/DnoM0EH2AznnZfs\\\n",
              "tFPy6KPJ+ec3dyD1JEfm+7k9hyVJpqYzb8iTWZqJSZIf5YCsyFbVrHz8+KSrq9oIt4GYJ9Xd8tzb\\\n",
              "fXAQdIDNsOWWyde+Vr2+5JJk/vwmDWThwiTJskxIkrwl92ZepueB7Jn351+SJMszPsOztlpi7+zc\\\n",
              "pBvMJC8F/Xvfqy7bozUJOsBmOv746r+1a6vNck2J3fbbp5ZkQpYlSb6YS5Ik47M838wf5M9zZq7M\\\n",
              "H2dsupIkd9QPzrJVo5N58zZ4HXqvQw5Jxo1LnnqqunMcrUnQAfrga19Lttgiueee5BvfaN44Fmfn\\\n",
              "JMmkrHvO69ZbZ2y6cmZtTj6RamBX5yM5PLfm+HwvXfVR1RL87NkbfO+RI5NjjqleW3ZvXYIO0Ac7\\\n",
              "7fRSE8/4k+V5evSkTVrO7rOnnsqaDH9x49uLQV+9unqqzKhRSZJL84WclKuzNiMyKYvTlu4NXoe+\\\n",
              "vt5l92uvrf4arUfQAfro1J2uzb65P8u6x+UjL/z9Ji1n99nkyWlLTx7Nrrkr78h2vZekbb99MmdO\\\n",
              "elatzum5OF/MpUmS0/J/8638n4zMmo26Dr3XkUdWvxs8/HDys58N5A/E5hJ0gD4afsG5uSKfSVLP\\\n",
              "bTk8B9fvyOJM2qjl7D6bNSvD0pOda0vyjtydYbW8OIVem+H5eL6RS1I9//UvckYuzZ9mWOobfR16\\\n",
              "r622St797uq1ZffWJOgAfbVwYfbN3OyTziT13JWDs0ceyIU/PT6rVg3wsdvbk2uuqa4rX//68qee\\\n",
              "SlvWZnRWpS1rc1U+ljMyJ7VabZOuQ1/f+ybdlyS57pwfN/a0AhvFw1kA+mr69GTevKysj86DmZLP\\\n",
              "56v5Qd6ZJNltt+qRq72byho9pu56Lf+TN+ct+VE1K3+Nh7G8po6OPDXjU3lDnkwyLP+a9szItdUv\\\n",
              "E+3t/T16NoMZOkBfzZqV1OsZW1uV/TM3/5lD8o/5cCZO6MojjyTvfW9y7LHJI480fkxttfpLMd+E\\\n",
              "Jfb11evJbV+8OR/N1enNxux8eaN3ydMYgg7QVy9b9q5Nn5YPd3wgCxaNyemnJ8OHJzfckOy9d3LO\\\n",
              "OQ26VeyrLcVvwhJ7d3d1v/oDDkje8+iVuS3vSfUY1mRq5m/SLnkGniV3gAH24IPJqacm//7v1eeT\\\n",
              "JiWXXVa1tVZr7theyapVyTe/Wd0B7+GHq6+NrXXlj+p/l2UZl2/nDzIz5+f82qzNX8Kn35mhAwyw\\\n",
              "PfZIbrmlmiBPmpQsXlxd1Xb44ckDDzR7dC957rnkK19JdtmluvPdww8n22xTrdIv+sZ/5Kv5XHbK\\\n",
              "40mq28lu7hI+A0PQARqgVqtm5A88UC27jxqV3HZbNcE9/fTqaWbN8sQT1RNYJ01KzjqrusXrpEnV\\\n",
              "Zr7Fi5Nzz01e/7H3Jtdck/ETxyRJlk/YZZOX8BlYltwBmuDnP09OOy25/vrq84kTq0eaf/jDjVuG\\\n",
              "X7CgOua3v13dWC5Jpk6t4v7BDyYjRvzu37nyyuTkk5Pjjqse1kLrMEMHaII3vakK4o03Jrvvnjz5\\\n",
              "ZPLRjyYHH5z85CcDe+wf/rDaM7fnnsk//EMV83e8o9q419mZnHTSK8c8qZ6+miTLlw/sGNl0gg7Q\\\n",
              "REcfXT169aKLkrFjkx/8INl//+Szn02WLeu/49Tryc03J4cemrz1rS/dk/2446oHy9x1V3Wt/IZW\\\n",
              "B8aNqz4+91z/jY3+IegATTZqVPJnf1bthj/xxOoxrFdckUyeXM2g+/JY1rVrk3/6p2S//ZKjjkru\\\n",
              "vLO6jO5jH0t++tNqleCggzb+/XqDbobeepxDB2gxt99ezdB7H4Jy4IFV4A84YOPfY+XK5Kqrkksv\\\n",
              "TR59tPraFlskf/zH1bn7nXbavLE9+GC1VD9hQvLss5v3HgwMQQdoQWvWVBGfNavaAV+rJZ/4RLU0\\\n",
              "v+22r/73nn02+frXk8svT555pvratttW18F/+tPVZWh98eSTyQ47JMOGVbP/VryOfqgSdIAWtnRp\\\n",
              "cuaZybe+VX0+fnxywQXJydtdm+EXnJssXJhMnpwlp/x5LnvwqFx5ZfKb31Tfu8suyRe/mHz849X5\\\n",
              "+f6wcmU100+SFSuqp7DRGgQdYBC4557kM5956aZs0zM3V+Sz2Sa/ysU5I/+Yj2Rtqq3p06dXvwR8\\\n",
              "4APV+fL+VK9X5/zXrEmWLEne+Mb+fX82n6ADDBLd3dV14Gd/dnmWdY/7nT8/ZIv/zpn/ekCOOGJg\\\n",
              "l8K33bZazp83r7pundZglzvAINHWlnzqU8nC4Xvn/fnui18/PDfnhzkwd3S/M0ceOfDntV2L3poE\\\n",
              "HWCQef2U1+Vfah/MuFQXqn8pf5EDa/+TTJnSkOO7Fr01CTrAYLPuWefvyh1Jkvuzf0MflOJa9NYk\\\n",
              "6ACDzbpnne+7/dIkydwJhzT0QSmW3FtTP+9/BKAh2tuz34gkxyX373hs0sCHnllyb01m6ACD1H77\\\n",
              "VR8feCDp6mrccc3QW5OgAwxSO+6YvP711eVs8+c37rjOobcmQQcYpGq1l2bp99/fuONacm9Ngg4w\\\n",
              "iDUj6JbcW5OgAwxiZuj0EnSAQaw36J2d1bn0RnAOvTUJOsAgtvvu1ZPUurqqB681giX31iToAINY\\\n",
              "W1v1dLWkccvultxbk6ADDHKNPo/eO0P/zW+StWsbc0w2TNABBrlGB33rrV96vWJFY47Jhgk6wCC3\\\n",
              "ftDr9YE/3ogR1Xn7xLJ7KxF0gEFu6tRk+PDk2WeTJUsac0wb41qPoAP0l46OaofamDHVx46Ohhx2\\\n",
              "1Khkr72q1zbGDV2CDtAfOjqSGTOSefOyelV3Mm9e9XmDot7o8+iuRW89gg7QH847L/XU8rb63dk6\\\n",
              "K9JZ37u62frs2Q05fLN2ugt66xB0gP6wcGFWZKvcl/+dFzI6J+dvU6/XkwULGnL4ffetPs6d25DD\\\n",
              "WXJvQYIO0B8mT8642vM5PLckSe7NQflaTk2mTGnI4XuDvnhx8qtfDfzxzNBbj6AD9IdZs5J6PYfn\\\n",
              "the/9MXMyQ8/9JcNOfy4ccmb3lS9bsQs3Tn01iPoAP2hvT255prsu9vzSZIxtVVZk5E58ZzJeXb0\\\n",
              "Dg3Z9d7I8+iW3FuPoAP0l/b2TL/vqiRJV310ds0jWbxmhxz9wjXp7pw/4LveGxl0S+6tR9AB+tHW\\\n",
              "Wye77Va9PiNz0pa1+WHelt/L3QO+690MfWgTdIB+1hvWZ/K6DM+aJMnBubO6L+sA7nrvPe6CBcnK\\\n",
              "lQN2mCTOobciQQfoZ707zq/LCXkhY7JbHspFObuaoQ/grveJE5Ptt096epLOzgE7TBJL7q1I0AH6\\\n",
              "2X4r70mSdGZakuT0XJJhtVQz9FmzBvTYjboe3ZJ76xF0gP7U0ZF9L/pAkmRNRmZcns1J+XYyaVK1\\\n",
              "Ie6EEwb08I06j77+DL0RT3hjwwQdoD+dd14mZmlq6UmS7JN5GVtbVRVwgGOeNC7ovTP01auTVasG\\\n",
              "9lhsHEEH6E8LF2ZlRqd30npMbhrwzXDr6w36vHnJ2rUDd5wtt6y2BCTOo7cKQQfoT5MnZ0l2TjIs\\\n",
              "Y/KbnJ5LBnwz3Pp22y3Zaqtq1vzggwN3nGHD7HRvNYIO0J9mzcp9qabJ+2Vu2mr1hmyG6zVsWHVT\\\n",
              "uqRxy+42xrUGQQfoT+3tue+4c5Mk+7d1JtOmNWQz3PoafR7dDL01DG/2AABKc9/zk5Mk+//dp5KP\\\n",
              "f6rhx2/GTneazwwdoB/V68l991Wv99+/OWPoDfrcuQN7SZkl99Yi6AD96NFHqxnryJHJXns1Zwx7\\\n",
              "7ZWMGFGFdtGigTuOGXprEXSAftQ7O99nnyqqzTByZLL33tXrgVx2N0NvLYIO0I+avdzeqxHn0W2K\\\n",
              "ay2CDtCPhlLQLbm3FkEH6CetsCGuVyNn6JbcW4OgA/STxx9PfvnLpK2tOofeTNOnVzeo6x3TQDBD\\\n",
              "by2CDtBPemfne+2VjBnT3LFstVWy++7V64GapTuH3loEHaCftMpye6+BXna35N5aBB2gn7Ra0Pfd\\\n",
              "t/o4d+7AvL8l99Yi6AD9pNWC3qgZ+vLlSU/PwByDjVer1wfyxoAAQ8NTTyVveEO1EW358uocdrOt\\\n",
              "P6YVK6pnmPenrq5k7Njq9fLlydZb9+/7s2nM0AH6Qe8sePLk1oh5kmy/fTJxYnU5XWdn/7//6NHV\\\n",
              "XekSy+6tQNAB+kGrLbf3Gshl91rNxrhWIugA/WAoBj2xMa6VCDpAPxiqQXcteusQdIA+Wrasemxq\\\n",
              "8lJAW0XveObPT9as6f/3t+TeOgQdoI96Z7+77ppMmNDcsbzcrrtWu89Xr05+9rP+f39L7q1D0AH6\\\n",
              "qFWX25Nq49pG3WCmo6O6AfyYMdXHjo6Nen8z9NYh6AB91MpBTzbiPHpHR9bO+EDu6Nwmt606KJk3\\\n",
              "L5kxY6Oi7hx66xB0gD4a9EE/77wcmxvyrtyRT+bvqwvXa7Vk9uwNvrcl99Yh6AB98PzzycKF1etW\\\n",
              "2xDXq3dcc+e+yi1aFy7MW/P/kiRPZIfqa/V6smDBBt/bknvrEHSAPvjJT6r27bhjdWe2VrTnnsmo\\\n",
              "UdXtX3t34/+WyZNzTG5KkqzOqPwik6oZ+pQpG3xvM/TWIegAfdDqy+1JMmJEMnVq9foVl91nzcq0\\\n",
              "dCapHu3xbzm2+i3liCM2+N5m6K1D0AH6YDAEPdnAefT29ow8/fMZl+eSJDfkmOrrF1+8wY1xNsW1\\\n",
              "DkEH6IMigp4kt9ySHfNYkuTWHJm/zslZlVHJRz7ympeyjf/xfyRJlj/wxCZd7kb/8/hUgM3U1VU9\\\n",
              "Wa27O1myJHnjG5s9olf3X/+VvP3t1dPXnnjiFb5h5Mgcuub7uTOHvfil7bM0H8h3897ckBHpztq0\\\n",
              "pfvsWVn7lrenuztZffe9mX/pzTk/56Yta7I6ozMsPck11yTt7Y374Ugi6ACb7Uc/St7ylmTbbatn\\\n",
              "j9dqzR7Rq/v1r6s7xtXrydKlr7CBb8yYfGHVhbksX8iorMq2+WUey06bdIxfZXy2qa1Ipk3bwF1s\\\n",
              "GAiW3AE2R0dH7mu/IEmyf9c9qV3b2kvNW26ZTJ74fJLk/p2O+93l8e7ujEt1IryeWs7IX2Sf/CS1\\\n",
              "9KSWV7rWrVJLT9qyNqPSlV/ldRt9uRv9b3izBwAw6HR0JDNm5L5cmSTZ/9d3JTPOau2l5o6O7PfE\\\n",
              "C1mQD+X+NXvnHZ2354EZF2X+KZMyf/SbM3/UHfnJml2TVJeunZorfuuv19KT3fNwpo5bkqmnHpap\\\n",
              "U5Op55yQ/7XwxozIek992cjL3eh/ltwBNtX06cm8eXld/ek8m9fnrfmv7Jgnqi3f735Pkmqi2uvl\\\n",
              "/5d9rc839882+L13352fPr9TlmTnjMjqrM3w1F9lkXanLM7UzP+t//bMgxmTruqXmRNOqL5x3S82\\\n",
              "qdVeurtcvf7b30PDCDrAphozJqtXdWdUXkjSwifON2DbPJ2pw36WqaccUs24n7kze//TzIx7+MfV\\\n",
              "LPuII5JbbqmW0KdMSWbN+t1Qd3RUt4h9re+hIQQdYFNNn57VnQ/mc7ksi7Nzjs6NqaWW2o47JGef\\\n",
              "/eK3rb9J7uUb5l7r8839s9f83pkz8/Rjq/LP+WD2y325MDOzXe0ZG9gKIugAm2owLjUPxjGzSexy\\\n",
              "B9hU7e3VBrhp05LRo6uPrR7GwThmNokZOgAUwAwdAAog6ABQAEEHgAIIOgAUQNABoACCDgAFEHQA\\\n",
              "KICgA0ABBB0ACiDoAFAAQQeAAgg6ABRA0AGgAIIOAAUQdAAogKADQAEEHQAKIOgAUABBB4ACCDoA\\\n",
              "FEDQAaAAgg4ABRB0ACiAoANAAQQdAAog6ABQAEEHgAIIOgAUQNABoACCDgAFEHQAKICgA0ABBB0A\\\n",
              "CiDoAFAAQQeAAgg6ABRA0AGgAIIOAAUQdAAogKADQAEEHQAKIOgAUABBB4ACCDoAFEDQAaAAgg4A\\\n",
              "BRB0ACiAoANAAQQdAAog6ABQAEEHgAIIOgAUQNABoACCDgAFEHQAKICgA0ABBB0ACiDoAFAAQQeA\\\n",
              "Agg6ABRA0AGgAIIOAAUQdAAogKADQAEEHQAKIOgAUABBB4ACCDoAFEDQAaAAgg4ABRB0ACiAoANA\\\n",
              "AQQdAAog6ABQAEEHgAIIOgAUQNABoACCDgAFEHQAKICgA0ABBB0ACiDoAFAAQQeAAgg6ABRA0AGg\\\n",
              "AIIOAAUQdAAogKADQAEEHQAKIOgAUABBB4ACCDoAFEDQAaAAgg4ABRB0ACiAoANAAQQdAAog6ABQ\\\n",
              "AEEHgAIIOgAUQNABoACCDgAFEHQAKICgA0ABBB0ACiDoAFAAQQeAAgg6ABRA0AGgAIIOAAUQdAAo\\\n",
              "gKADQAEEHQAKIOgAUABBB4ACCDoAFEDQAaAAgg4ABRB0ACiAoANAAQQdAAog6ABQAEEHgAIIOgAU\\\n",
              "QNABoACCDgAFEHQAKICgA0ABBB0ACiDoAFAAQQeAAgg6ABRA0AGgAIIOAAUQdAAogKADQAEEHQAK\\\n",
              "IOgAUABBB4ACCDoAFEDQAaAAgg4ABRB0ACiAoANAAQQdAAog6ABQAEEHgAIIOgAUQNABoACCDgAF\\\n",
              "EHQAKICgA0ABBB0ACiDoAFAAQQeAAgg6ABRA0AGgAIIOAAUQdAAogKADQAEEHQAKIOgAUABBB4AC\\\n",
              "CDoAFEDQAaAAgg4ABRB0ACiAoANAAQQdAAog6ABQAEEHgAIIOgAUQNABoAD/H+OaAddDZ5X7AAAA\\\n",
              "AElFTkSuQmCC\\\n",
              "\"\n",
              "  frames[1] = \"data:image/png;base64,iVBORw0KGgoAAAANSUhEUgAAAfQAAAH0CAYAAADL1t+KAAAAOnRFWHRTb2Z0d2FyZQBNYXRwbG90\\\n",
              "bGliIHZlcnNpb24zLjEwLjAsIGh0dHBzOi8vbWF0cGxvdGxpYi5vcmcvlHJYcgAAAAlwSFlzAAAP\\\n",
              "YQAAD2EBqD+naQAAIExJREFUeJzt3XmcXnVh7/Hvk0ySCUsKRlkFAkggLBlFQBDZQVwuCgnWBSot\\\n",
              "94q+pNaFS1BrjQFeBYErbVWgVsvFBdtq5qJVKZWEtUShCiRISFADYQ2bQCB78tw/fpkQVCCTeWb7\\\n",
              "zfv9es3rOZOZOc+Z/POZ3+/8zjmNZrPZDAAwqA3r7wMAAHpO0AGgAoIOABUQdACogKADQAUEHQAq\\\n",
              "IOgAUAFBB4AKCDoAVEDQAaACgg4AFRB0AKiAoANABQQdACog6ABQAUEHgAoIOgBUQNABoAKCDgAV\\\n",
              "EHQAqICgA0AFBB0AKiDoAFABQQeACgg6AFRA0AGgAoIOABUQdACogKADQAUEHQAqIOgAUAFBB4AK\\\n",
              "CDoAVEDQAaACgg4AFRB0AKiAoANABQQdACog6ABQAUEHgAoIOgBUQNABoAKCDgAVEHQAqICgA0AF\\\n",
              "BB0AKiDoAFABQQeACgg6AFRA0AGgAoIOABUQdACogKADQAUEHQAqIOgAUAFBB4AKCDoAVEDQAaAC\\\n",
              "gg4AFRB0AKiAoANABQQdACog6ABQAUEHgAoIOgBUQNABoAKCDgAVEHQAqICgA0AFBB0AKiDoAFAB\\\n",
              "QQeACgg6AFRA0AGgAoIOABUQdACogKADQAUEHQAqIOgAUAFBB4AKCDoAVEDQAaACgg4AFRB0AKiA\\\n",
              "oANABQQdACog6ABQAUEHgAoIOgBUQNABoAKCDgAVEHQAqICgA0AFBB0AKiDoAFABQQeACgg6AFRA\\\n",
              "0AGgAoIOABUQdACogKADQAUEHQAqIOgAUAFBB4AKCDoAVEDQAaACgg4AFRB0AKiAoANABQQdACog\\\n",
              "6ABQAUEHgAoIOgBUQNABoAKCDgAVEHQAqICgA0AFBB0AKiDoAFABQQeACgg6AFRA0AGgAoIOABUQ\\\n",
              "dACogKADQAUEHQAqIOgAUAFBB4AKCDoAVEDQAaACgg4AFRB0AKiAoANABQQdACog6ABQAUEHgAoI\\\n",
              "OgBUQNABoAKCDgAVEHQAqICgA0AFBB0AKiDoAFABQQeACgg6AFRA0AGgAoIOABUQdACogKADQAUE\\\n",
              "HQAqIOgAUAFBB4AKCDoAVEDQAaACgg4AFRB0AKiAoANABQQdACog6ABQAUEHgAoIOgBUQNABoAKC\\\n",
              "DgAVEHQAqICgA0AFBB0AKiDoAFABQQeACgg6AFRA0AGgAoIOABUQdACogKADQAUEHQAqIOgAUAFB\\\n",
              "B4AKCDoAVEDQAaACgg4AFRB0AKiAoANABQQdACog6ABQAUEHgAoIOgBUQNABoAKCDgAVEHQAqICg\\\n",
              "A0AFBB0AKiDoAFABQQeACgg6AFRA0AGgAoIOABUQdACogKADQAUEHQAqIOgAUAFBB4AKCDoAVEDQ\\\n",
              "AaACgg4AFRB0AKiAoANABQQdACog6ABQAUEHgAoIOgBUQNABoAKCDgAVEHQAqICgA0AFBB0AKiDo\\\n",
              "AFABQQeACgg6AFRA0AGgAoIOABUQdACogKADQAUEHQAqIOgAUAFBB4AKCDoAVEDQAaACgg4AFRB0\\\n",
              "AKiAoANABQQdACog6ABQAUEHgAoIOgBUQNABoAKCDgAVEHQAqICgA0AFBB0AKiDoAFABQQeACgg6\\\n",
              "AFRA0AGgAoIOABUQdACogKAD/L7OzqSjIxk9urx2dvb3EcErajSbzWZ/HwTAgNHZmUyenDQaSbP5\\\n",
              "wuv06cmkSf19dPCSjNAB1jdtWtZkWD7Y/L8ZmydyVfO4rEkj+chHjNoZ0IzQAdY3enRWL1ueTbMk\\\n",
              "y9OeJNkpC3JqvpH357vZKk/kTxqLjdoZcAQdYH0dHWnOnp0v5ZP53/nS732xmUaaeV/+JXvl7kzY\\\n",
              "aUkmXP2lvO51yYgR/XK0sI6gA6xv7Tn057JJXpMnsjJtWZ22JI2X/JG2tmTXXZMJE178scceyWab\\\n",
              "/ZH9T5uWzJ+fjB+fTJ1qlE9LCDrA7xs3Lrn//jyVLXNxPpFz8/m0ZXmOzrUZn3uzTRZlbiZk7ug3\\\n",
              "5p7he+W55156VzvsUMI+YUIyYdntmfC1T2R0lmbX/DpjG0+buqdlBB3g93WtdE+yJKNzer6az+Zv\\\n",
              "s1t+/Qff1zz+hDz0UDJ37os/7rknWbTopd9iTJ7J09kijUYjmTgxueOO3vt9GBIEHeCP6exMPvWp\\\n",
              "5P77//Br48YlX/pScsIJL7uLp54qYV8X+ouvzp1r9slD2T5JI1fkg/lgvpW0tydLl/bKr8HQIegA\\\n",
              "L6ezMzn77GTevGT33cs571cI+Uvq6EjmzMnZzb/O1JyTzfNs7szrs3PHGCN0ekzQAfrK2qn81Rme\\\n",
              "w3Ndbs4hOTg354bvPZ7hJ27kHwmwlhvLAPSVSZOS6dMzvGPvfGvk/8rmw57Lf+Ut+eJ8MafnjNAB\\\n",
              "+sk3v5mcckq57G3WrGS//fr7iBjMBB2gnzSbyXvfm3zve+WS9F/+Mtl00/4+KgYrU+4A/aTRSC67\\\n",
              "LNluu3KfmTPP7O8jYjAzQgfoZ9demxxzTNn+0Y+Sd76zf4+HwckIHaCfHX108slPlu1TT00ee6x/\\\n",
              "j4fByQgdYABYtizZf//krruSd70rueqqMiUPG8oIHWAAaG9PvvOdZOTI5Ic/TL7+9f4+IgYbQQcY\\\n",
              "ICZOTM47r2x/4hPJvff26+EwyJhyBxhA1qwpC+RmzkwOOCC5+WbPWmfDGKEDDCDDhiVXXJFssUVy\\\n",
              "663Juef29xExWAg6QG/r7CwPZhk9urx2dr7st7/2teX69KQEfdasPjhGBj1BBwa/bgazT49lypTy\\\n",
              "bPU5c8pS9jlzyuevcIzvfW9y8sllCv7kk5PFi/vo+Bm0nEMHBre1TzBblvYka9LeWFnuqTp9enkY\\\n",
              "Sl+aMiW58MIkyaoMTzPDMjv7ZFbenFk5MLvmNzk7U8v1aBMnvuIjU595pnzbwoXl+vRvfKMPfgcG\\\n",
              "LUEHBrdx4/LM/b/Lm/LzPJAdclv2z56Z+8J1YH0V9bV/WCTJ/8w/5V/y/qzOsCzP6HXfsnfmZE4m\\\n",
              "lk/a25OlS19xtzfemBx+eP/9jcLgYcodGLw6O5P778+NeUvmZY8syab565yT6ZlUprc3YGq7ZaZN\\\n",
              "S5L8KO/I5Tk1S7Jplmd0tsjv8rZcnS9kai7O2tvBNRrJ7rtv0G4PPTQ566yyfdppySOP9MbBUwMj\\\n",
              "dGDw6ujIktnz8+o8maXZZN0/j8uC/Da7pLGBU9stMXJkblh5YI7JtVmZkdk0i/NfOTj75K4MS7NE\\\n",
              "vLnea2dncsKGPQd9xYrkwAOT229Pjj02ufpqd5HjDxmhA4PX/Pn5PzljXcxHZVmS5L7snPkZX8J5\\\n",
              "9929fxydncmqVflUvpSVGZnhWZWf503pyJwS8ylTyh8W7e3ltRsxT8rd477znfLj11yTfPWrvfi7\\\n",
              "MGgJOjB4jR+fv2n8bS7KGRmTZ7I87eu+9K2cXDZWruzdafe1q9ibzWY+kb9LkmyfB7NX5pavDx+e\\\n",
              "fPGLZZZg6dLy2o2Yd5kwIbnoorJ95pl983cKg4ugA4PX1KlJs5kzGhfn7uyZQ3Ljui+dn09naUaV\\\n",
              "T84+u3fev7MzufDC/DY7ZbMszg05LEmyMOPybDYv37P33i17u49+NHnb28rygJPeeE9WtI/p/8v0\\\n",
              "GDAEHRi8Jk0qS78nTsz27U9lZo7MgbklSbI6I/Le/GtWZ1gyb17vvP+nPpUkOTw3ZEk2yzfyoWyW\\\n",
              "Z5Mkt+cN5XuOPbZlb9doJP984k8yNk/kjmV75IjlP8nS2ff27eI/BixBBwa3SZPWTWe3Tdwrt+Qt\\\n",
              "mZBfJVmdf8+7c0quyKrxe/bOey9cmPvz2jyQHdf903MZkyS5NkeVf7jggjIt36Ib32z7D5/J51Nm\\\n",
              "HG7JWzIl55fS99YsBIOGoAP1mDo1jTRzd2Of/Fvel7aszHdyct6/6Q+zcmXvvOUV+YsXfT4sq5Mk\\\n",
              "X8nH0nUJ0TMX/mNOmj0l9y577QbfKe6l/HjuLvlcXrjB+6q0lcV/vTULwaAh6EA91puCf0/7j/L9\\\n",
              "cWdmRNuafH/W9jnxxGT58ha/34475vM5JzflLXlXfpDhWZU1GZ6RWZ4P57J0XVn2NzknV+akTM70\\\n",
              "NLsuXevmiLrZLIP941ZOz+KMyTZ5OEnyqvyuW9e1Uy/XoQNVu/rqsqh8+fLk7W8vvR89+pV/boOs\\\n",
              "d3e4JPlNdsm5+VzOzAXZM/ckSX6ZN2T/3JY1GZ6f5ugcnRnlmzfwTnFJWQR32mnJt75VPv9wLsv4\\\n",
              "zM8Z+VJOSGc6M7nbl8JRHyN0oGpvf3vy4x+XiF99dXLcccnzz7do510zAh0dyYgR2TW/zeU5dV3M\\\n",
              "V2dYPpLLsibD875894WYd2NE/fDDyWGHlZgPH5585SvJpd/fKvvssiRJMnfU68WcJEbowBBx443J\\\n",
              "O9+ZPPdccsghJfKbb97iN+nsLCvfFy5Mms1cmo/ko7k0Y/JM7ske2TaPvvh7XyHCt92WHH98ifqW\\\n",
              "Wybf+15y1Nq1dg88kOy4Y9LWlixZkowY0eLfhUHHCB0YEg49NPnP/0zGjEluuil561uTp59u8ZtM\\\n",
              "mpTcd1955ml7e7lbXZJz87kXYt5obFDMr7yyHPPDD5ebytx22wsxT8oz0zfdNFm1KvnNb1r8ezAo\\\n",
              "CTowZBx0UDJjRhnt/uxnydFHJ0891UtvNn58Lm6ckZ/ngHw0l5R/67q3/MvEfM2a5LOfTU46qZw7\\\n",
              "f+c7y7HuuuuLv6/RSPbYo2zfc08v/Q4MKoIODCn77Zdcd13y6lcnv/hFcsQRyeOP98Ibrb2L3QGN\\\n",
              "/87wrHnhoSxTp77kjyxeXKbYzzuvfH7WWckPflBmFf6YCRPK69y5rT10BidBB4acjo7khhuSbbZJ\\\n",
              "Zs9ODt/32Tyy51EtufHLOutdQrchD2X57W/LDMK//3syalTy7W8n559fFsK9lK6gG6GTWBQHDGHz\\\n",
              "5ydHHrQ0Dz01OuOyINfnsOzUeLCMpKdPL1HuA9dfn5x4YvLkk8m22yZXXZUccMAr/1zXVXP775/c\\\n",
              "emtvHyUDnRE6MGSNH5/c+JrJ2TH35b7snF2yIMc2r86X87Hc/dlvpy+GO5demhxzTIn5fvuVxW8b\\\n",
              "EvPkxSN0QzOM0IGhbfTo3Lxs3xyWG7MmL57f3mab5Mgjy8dRRyXjxrXubVeuTP7qr5LLLiuff+AD\\\n",
              "yde/3r2b3qxYkWyySbJ6dfLgg8n227fu+Bh8BB0Y2jo6kjlzsrC5fX6ZN+ae7JGZOTI3Nw7J0uaL\\\n",
              "67rzziXsRx5ZFtNts83GveUTTyTveU+Zam80yiK4KVPKdnftsUe5jftPf1pW7TN0CTowtHWdiO5a\\\n",
              "hb72dfm/XpWfbf3uzJiRzJyZ/Pzn5Zrv9e211wuj98MOS7bY4pXf7q67kne9K1mwINlss3K9+XHH\\\n",
              "bfzhH398WQn/5S8nf/mXG78fBj/n0IGh7SVWo4/603fnsMPKM1Ruvrlcr/6TnyRnnJG84Q2l+7/6\\\n",
              "VQnp8ccnY8eWc9+f/nQZLS9Zsnb/nZ3rHp36w3F/lYP2X5kFC5JddinXl/ck5olL13iBETrARnjy\\\n",
              "yTJl3jWC//2nl44cmRy02+M58ldfzpGZmR/nHfliPp1mhuWIvR/L967fKmPH9vw4vvnN5JRTykzB\\\n",
              "jBk93x+Dl6ADtMBDD5Wwz5xZwvrAA3/8+07PV3PxxMsz4s7/bsn73npr8qY3lcvdHn64JbtkkBJ0\\\n",
              "gBZrNsv91WdM+MvMWHVIvp8T08zwHJybcnMO7dajU1/Js88mf/InZfvpp1/YZuhxDh2gxRqN5HWv\\\n",
              "Sz685035t8b7c0HOTJKMzIpuPTp1Q4wZk2y3Xdl2x7ihTdABesva+7n/j1ydJJmVN2dZc+TL3s99\\\n",
              "Y1gYRyLoAL1n7Qr63SeOyrZ5JMsyOrOm/fQVH53aXZ66RiLoAL1r0qQ07rwjR560bZJk5spDWv4W\\\n",
              "Rugkgg7QJ448srzOnNn6fQs6iVXuAH3ivvvKrWPb2spNajbfvHX7fvjhch/34cOT558vj19l6DFC\\\n",
              "B+gD48aVoK9aVe4810rbbltWu69enfz6163dN4OHoAP0kd6adm80LIxD0AH6jPPo9CZBB+gjXUG/\\\n",
              "/fZyHr2VjNARdIA+ss02yZ57llvDXn99a/dthI6gA/Sh3pp27wr6Pfcka9a0dt8MDoIO0Id6K+i7\\\n",
              "7JKMGFGew/7gg63dN4ODoAP0ocMOK6vS585NHnmkdftta0t2261sm3YfmgQdoA+96lXJG95Qtq+7\\\n",
              "rrX7tjBuaBN0gD7W2+fRjdCHJkEH6GO9FfSuEbqgD02CDtDHDjmknPNesKB8tMr6K90ZegQdoI9t\\\n",
              "tlnypjeV7VaO0nffvbw+9ljrb1zDwCfoAP2gN6bdN9ss2WGHsm2UPvQIOkA/WD/orXyItYVxQ5eg\\\n",
              "A/SDAw9M2tuTRx9t7WjapWtDl6AD9IP29uTgg8t2K6fdjdCHLkEH6Ce9cR7dpWtDl6AD9JOuoF93\\\n",
              "XeseqNI1Ql+wIFm2rDX7ZHAQdIB+st9+yeabJ7/7XXLnna3Z51ZbJVtuWRbazZ/fmn0yOAg6QD9p\\\n",
              "a0sOPbRst2ravdGwMG6oEnSAfnTUUeV1xozW7dPCuKFJ0AH6Udd59BtvTFaubM0+jdCHJkEH6Ef7\\\n",
              "7JOMHZs8/3xy222t2acR+tAk6AD9aNiw5IgjynarzqN3jdDnzUtWr27NPhn4BB2gn7X6evSdd05G\\\n",
              "jiyXrS1c2Jp9MvAJOkA/6wr6LbckS5f2fH/Dhyfjx5dt0+5Dh6AD9LPx45PttkuWL09mzWrNPj0b\\\n",
              "fegRdIB+1mi0ftrdwrihR9ABBoCuoLfqenT3dB96BB1gAOgK+m23Jc8+2/P9mXIfegQdYADYaadk\\\n",
              "113LZWY33dTz/Y0fX6byn3wyefzxnu+PgU/QAQaIVp5H32ST8kdCYpQ+VAg6wADR6oVxzqMPLYIO\\\n",
              "MEB03THujjvKVHlPOY8+tAg6wACx9dbJXnuV7euv7/n+XLo2tAg6wADSyml3U+5Di6ADDCCtvB69\\\n",
              "a4R+//3JkiU93x8Dm6ADDCCHHVaewDZvXvLQQz3b16tfXR7NmpT9UTdBBxhAttwy2Xffsn3ddT3f\\\n",
              "n4VxQ4egAwwwzqOzMQQdYIBZ/zx6s9mzfVnpPnQIOsAA85a3JG1tycKFyYIFPduXKfehQ9ABBphN\\\n",
              "N00OPLBs93TavWvKff78ZNWqnu2LgU3QAQagVp1H32mnpL09WbEiue++Hh8WA5igAwxA6we9J+fR\\\n",
              "hw1Ldt+9bDuPXjdBBxiADjywjKwXLUruvrtn+3IefWgQdIABaNSosjguad15dCP0ugk6wAB11FHl\\\n",
              "tadBd+na0CDoAANU13n0669PVq/e+P2sP+Xe0+vaGbgEHWCA2nffZMyY5OmnyzPSN9Zuu5XFcU8/\\\n",
              "Xc7JUydBBxig2trKw1qSnk27t7cnO+9cti2Mq5egA/SWzs6koyMZPbq8dnZ2exetuh7dwrj6CTpA\\\n",
              "b+jsTCZPTubMSZYtK6+TJ3c76l1Bv+mmcnOYjWVhXP0EHaA3TJuWNBq5tHlaxuaJfLn50aTRSM4+\\\n",
              "u1u72Xvv8lzz559Pbr114w+na4Ruyr1egg7QG+bPT5rNfD5n56mMzSU5vSwxnzevW7sZNiw54oiy\\\n",
              "3ZNpdyP0+gk6QG8YPz7fysl5IlslSb6S08sIves+rN1w5Ja3J0lmfuHGjT4X3zVCf/DBZPHibv84\\\n",
              "g4CgA/SC5luPzZm5IEmyU+7LUY3rywh96tTu7aizM0d97U+TJLOab8qS2b/eqHPxr7q+M1u1PZkk\\\n",
              "mbfv+zfqjwIGtrb+PgCA6nR25u8vWppF2TZJ8sVMKTGfMiU54YTu7WvatGyfhzIiK7IiozIuC7JV\\\n",
              "Hkv7yY2071suSXupj9Gj127fOzvtV8zImOydxzI2/+/Xe2W/yZOT6dOTSZN64T+A/tBoNt03CKBl\\\n",
              "Ojuz+gN/lk2WP5kVaU8ja7IqwzOs0UgmTuz2HWJuHHV0/teKS3JvxrfsEF+TRXmsse1GHQ8DlxE6\\\n",
              "QKusvVTtnHw+K9KeJNkns8u5zW4uiFu8OPn0p5NLVlybJHlVHs+puTzH56qsSHuW7rxnll30lSxb\\\n",
              "llf++MZ3smzNiNye1+fXGZ/Hs3Vuah6cQ+b9dy/8J9BfjNABWqWjI0/NfiBb59GsysgkydU5Nm/L\\\n",
              "f5YFcRs4Iv6P/0hOOy154IHy+YfytVyQs7JFni77aTbLHw8bOn3f0VGug282c1r+Mf+U0zIhd+f2\\\n",
              "fU7JqNm3bdzvyoBjURxAq8yfn7uyV4alPEllWFbn4NxSvrYBC+Keeio55ZTk7W8vMd9552TGjORr\\\n",
              "01+dLTp2KifEJ07sXsyT8r7NZtJo5Is5K1tlUeZmz1y49xUb+5syABmhA7TK2pHwlc335qR8NxNz\\\n",
              "Z+7M60uIr7zyZSP8/e8np5+ePPZYGYR//OPJuecmm27aomPr7Cw3tZk3L9/d6uP5wMLzM2pUGbjv\\\n",
              "tluL3oN+ZYQO0CprR8K/zH5JkoPys/LvLxPzRx8tV6G95z0l5hMmJLfcklx8cQtjnpTV7HfckSxd\\\n",
              "mvfdd37e+tZk+fLkIx/xSNVaCDpAq0yalEyfnlmbHJUkOWiHB19yerzZTK64Itlzz/ItbW3J5z6X\\\n",
              "3H57cuCBvXuYjUZy6aVl4mDmzOTb3+7d96NvmHIHaKEVK8ozzJcvL4vax/+Rq80WLiyL3q65pny+\\\n",
              "777JP/9zmbHvS+efn3zmM+Ve8XPnllcGLyN0gBa6/fYS87Fj//Dc9Jo1ySWXJHvtVWI+alRy3nnJ\\\n",
              "z3/e9zFPkjPOKA9/eeKJcs8bBjdBB2ihWbPK60EHlantLvPnJ4cfXha+PfdccvDByZ13lmvN2/rp\\\n",
              "jiAjRiRf+1rZvvzy5Prr++c4aA1BB2ih9YOeJKtWJRdcUEbgN91UFrp9+cvJjTdu1HNaWu6gg8rC\\\n",
              "uCT58IfL7AKDk3PoAC20447lGvKZM8u0+6mnJr/4RfnaMceUEfG4cf16iH/g6afL6vpHHy0L9b/w\\\n",
              "hf4+IjaGETpAK3R25qE9j8kDD5QbylzzD/fkjW8sMd9iizKlfc01Ay/mSTm+v//7sn3eeck99/Tr\\\n",
              "4bCRBB2gp9bew33W3C2SJCOzIl+8ao+sWlWuWLv77uTP//zF59QHmve8J3nHO8oqfdemD06m3AF6\\\n",
              "qqMjzdlzsn9uzS/W3lRmqyzKV3a6KCcuuHBAh3x9991XVuAvWVIuo/uLv+jvI6I7BB2gp0aPTpYt\\\n",
              "yzZ5JIuyTQ7OzflB3p2x7UuSpUv7++i65aKLkjPPTF71qjL1/prX9PcRsaFMuQP01PjxSaOROzMx\\\n",
              "F+fjJeaN3w2MZezd9PGPlxX5Tz1VrlNn8DBCB+iptefQ1z3adGMecTqA3Hpruf1ss5lce21y1FH9\\\n",
              "fURsCCN0gJ5aew/3TJy48Y84HUAOOKDcACcpC+QG2VmDIcsIHaBGnZ3JtGnlFnXjx5cLzCdN2uAf\\\n",
              "f/bZcm36ww+Xh8acc04vHistIegAtVl7CmBV2tKWVS+cApg+vVtR7zqTMGJEefLqnnv23iHTc6bc\\\n",
              "AWozbVrOzV9nTJ7J5/OFF87rn312t3ZzwgnJccclK1eW28KuWdM7h0trGKED1Gb06Oy67K78Nrtm\\\n",
              "8zybe7Nbts5j5fx+N0+IL1xYRubPP19uW/uhD/XSMdNjRugAtRk/Plvkd0mSxRmTE/P9rMjIjbqM\\\n",
              "bscdXzh/PmVKsmhRKw+UVhJ0gMqs/Osv5FfZO0myWRbn5hyST+Ticg/ajo5ycrwbPvaxZN99y0Nc\\\n",
              "PvWpXjhgWkLQASozd48TsjztGTNsca4c9mdpZE0uzUdz8spv5PHZj2TN5BO7FfW2tjLdPmxYcuWV\\\n",
              "5SEzDDzOoQNU5vLLy2NbDz88ue6pjpw5++RclDPXfX1EVmTrEU9l29dvk223zUt+bL11iXmXT34y\\\n",
              "+bu/S3Ye+WDuakzMJrvv0O3L4eg9ba/8LQAMJl3PX3/jG5OHv7I4nem6wU0zSSMrMzIPrtwmD972\\\n",
              "8vtpNMq93LsCP/b5hdk8W2TBitfmpHw93579wWw6eXK3L4ejdxihA1TmzW9OZs1KLrkk+YdP/jb3\\\n",
              "LN8lO2VB/iNvyy5ZkEXZJo/sdmgeufDbeeSR/NGPRYuS1atf/n1m5Igc2bih3Bnvjjv65HfjpQk6\\\n",
              "QEVWrUrGjClXp+22W3LvvckOWZgbc1jG5b4Nvs/86tXJE0+8EPhHH00eOe3zeWTVa9KZE7IqbZmd\\\n",
              "idk6j2/U5XC0nqAD1KKzM3d95jvZZ/70DMvqrMnwbLddcsNnr8nr/umsZN68cuna1Kkbd5/5jo5k\\\n",
              "zpysag5LW9YO3xsNI/QBwjl0gBqsvU/rzflwkmRNhmerLMqMs+7M604/Njn92J6/x9SpyeTJaWus\\\n",
              "WXs6fu1of+rUnu+bHjNCB6hBR0eas+dkpyzIA9kp7Vma23JA9u4Y3trRc2dnuYVsT0f7tJygA9Rg\\\n",
              "9Ohk2bJ8PBfnsnwk5+RvMiUXOb89hAg6QA3Wnt9Os5nlGZlRWeH89hDjTnEANZg6dd1T1dbF3Pnt\\\n",
              "IUXQAWowaVK5wcvEiWWafeLEV7w0jbqYcgeAChihA0AFBB0AKiDoAFABQQeACgg6AFRA0AGgAoIO\\\n",
              "ABUQdACogKADQAUEHQAqIOgAUAFBB4AKCDoAVEDQAaACgg4AFRB0AKiAoANABQQdACog6ABQAUEH\\\n",
              "gAoIOgBUQNABoAKCDgAVEHQAqICgA0AFBB0AKiDoAFABQQeACgg6AFRA0AGgAoIOABUQdACogKAD\\\n",
              "QAUEHQAqIOgAUAFBB4AKCDoAVEDQAaACgg4AFRB0AKiAoANABQQdACog6ABQAUEHgAoIOgBUQNAB\\\n",
              "oAKCDgAVEHQAqICgA0AFBB0AKiDoAFABQQeACgg6AFRA0AGgAoIOABUQdACogKADQAUEHQAqIOgA\\\n",
              "UAFBB4AKCDoAVEDQAaACgg4AFRB0AKiAoANABQQdACog6ABQAUEHgAoIOgBUQNABoAKCDgAVEHQA\\\n",
              "qICgA0AFBB0AKiDoAFABQQeACgg6AFRA0AGgAoIOABUQdACogKADQAUEHQAqIOgAUAFBB4AKCDoA\\\n",
              "VEDQAaACgg4AFRB0AKiAoANABQQdACog6ABQAUEHgAoIOgBUQNABoAKCDgAVEHQAqICgA0AFBB0A\\\n",
              "KiDoAFABQQeACgg6AFTg/wPcgH2u667E8gAAAABJRU5ErkJggg==\\\n",
              "\"\n",
              "  frames[2] = \"data:image/png;base64,iVBORw0KGgoAAAANSUhEUgAAAfQAAAH0CAYAAADL1t+KAAAAOnRFWHRTb2Z0d2FyZQBNYXRwbG90\\\n",
              "bGliIHZlcnNpb24zLjEwLjAsIGh0dHBzOi8vbWF0cGxvdGxpYi5vcmcvlHJYcgAAAAlwSFlzAAAP\\\n",
              "YQAAD2EBqD+naQAAH7xJREFUeJzt3XmcnVVh//HvzQITCETWsEQIiwmbEwqUxQUEymZVkgBugAWt\\\n",
              "Viva6ksQtRpBfy2CP6vWWnepCJYlgwiCiCBq2WUxERAUWWUJAQIJySRh5vaPkyFBg2aSO7kzJ+/3\\\n",
              "65XXXDLJkxP/8JNzzvOcp9FsNpsBAIa0Ye0eAACw6gQdACog6ABQAUEHgAoIOgBUQNABoAKCDgAV\\\n",
              "EHQAqICgA0AFBB0AKiDoAFABQQeACgg6AFRA0AGgAoIOABUQdACogKADQAUEHQAqIOgAUAFBB4AK\\\n",
              "CDoAVEDQAaACgg4AFRB0AKiAoANABQQdACog6ABQAUEHgAoIOgBUQNABoAKCDgAVEHQAqICgA0AF\\\n",
              "BB0AKiDoAFABQQeACgg6AFRA0AGgAoIOABUQdACogKADQAUEHQAqIOgAUAFBB4AKCDoAVEDQAaAC\\\n",
              "gg4AFRB0AKiAoANABQQdACog6ABQAUEHgAoIOgBUQNABoAKCDgAVEHQAqICgA0AFBB0AKiDoAFAB\\\n",
              "QQeACgg6AFRA0AGgAoIOABUQdACogKADQAUEHQAqIOgAUAFBB4AKCDoAVEDQAaACgg4AFRB0AKiA\\\n",
              "oANABQQdACog6ABQAUEHgAoIOgBUQNABoAKCDgAVEHQAqICgA0AFBB0AKiDoAFABQQeACgg6AFRA\\\n",
              "0AGgAoIOABUQdACogKADQAUEHQAqIOgAUAFBB4AKCDoAVEDQAaACgg4AFRB0AKiAoANABQQdACog\\\n",
              "6ABQAUEHgAoIOgBUQNABoAKCDgAVEHQAqICgA0AFBB0AKiDoAFABQQeACgg6AFRA0AGgAoIOABUQ\\\n",
              "dACogKADQAUEHQAqIOgAUAFBB4AKCDoAVEDQAaACgg4AFRB0AKiAoANABQQdACog6ABQAUEHgAoI\\\n",
              "OgBUQNABoAKCDgAVEHQAqICgA0AFBB0AKiDoAFABQQeACgg6AFRA0AGgAoIOABUQdACogKADQAUE\\\n",
              "HQAqIOgAUAFBB4AKCDoAVEDQAaACgg4AFRB0AKiAoANABQQdACog6ABQAUEHgAoIOgBUQNABoAKC\\\n",
              "DgAVEHQAqICgA0AFBB0AKiDoAFABQQeACgg6AFRA0AGgAoIOABUQdACogKADQAUEHQAqIOgAUAFB\\\n",
              "B4AKCDoAVEDQAaACgg4AFRB0AKiAoANABQQdACog6ABQAUEHgAoIOgBUQNABoAKCDgAVEHQAqICg\\\n",
              "A0AFBB0AKiDoAFABQQeACgg6AFRA0AGgAoIOABUQdACogKADQAUEHQAqIOgAUAFBB4AKCDoAVEDQ\\\n",
              "AaACgg4AFRB0AKiAoANABQQdACog6ABQAUEHgAoIOgBUQNABoAKCDgAVEHQAqICgA0AFBB0AKiDo\\\n",
              "AFABQQeACgg6AFRA0AGgAoIOABUQdACogKADQAUEHQAqIOgAUAFBB4AKCDoAVEDQAaACgg4AFRB0\\\n",
              "AKiAoANABQQdACog6ABQAUEHgAoIOgBUQNABoAKCDgAVEHQAqICgA0AFBB0AKiDoAFABQQeACgg6\\\n",
              "AFRA0AGgAoIOABUQdACogKADQAUEHQAqIOgAUAFBB4AKCDoAVEDQAaACgg4AFRB0AKiAoANABQQd\\\n",
              "ACog6ABQAUEHgAoIOgBUQNABoAKCDgAVEHQAqICgA0AFBB0AKiDoAH1OOikZNSppNMrXk05q94hg\\\n",
              "hQk6QJKcdFKeOOMbua97bPnv7u7kjDOSyZOTSZNK4CdNSrq62jpMeDGNZrPZbPcgANpurbVyyOIf\\\n",
              "5Mc5JCOzKHvk5rwmV+eNOTeTMjO9aWR4o5k0m8n06cnUqe0eMbyAoAMkSaORDfJE5mTD5XyzmUaa\\\n",
              "OTNvy9sa5ySdncltt63uEcKfZckdYIlv5u0v8p1GmhmWm7N7maHfdddqHResCDN0gCTZdNM89fji\\\n",
              "XJtXpCfD05th6cnwPJ6N8tW8O7dlt0zMb3JHds6wSS83Q2fQEXSApNzsdsQRy/3W0xmT8bk3c7JB\\\n",
              "zstROarrrcmUKat5gPDnWXIHSMpNbtOnlzvZOzqW3tE+fXrGTBqffx7xpSTJp7b+RnoPF3MGHzN0\\\n",
              "gBXw1FPJ+PHJM8+UzpugM9iYoQOsgA02SN7//vL51FPLvXEwmJihA6ygJ54os/R585If/CB5/evb\\\n",
              "PSJYygwdYAVttFFywgnls1k6g40ZOkA/PP54maXPn59cemly2GHtHhEUZugA/bDJJsk//mP5fMop\\\n",
              "ZukMHmboAP302GNllt7dnfz4x8lBB7V7RGCGDtBvY8cm7353+WyWzmAh6ED7dHUN2VeTnnhisvba\\\n",
              "yTXXJFdf3e7RgKAD7bLkqNWeGben2d2dzJxZjl4dIlHfYovkne8sn089tb1jgcQeOtAukyblmRn3\\\n",
              "5YBcmXuybe7KxGya2eXY1bPPHhLvG3/ooWS77ZJFi5Kf/SzZd992j4g1mRk6sPp1dSUzZ+aavCI3\\\n",
              "Z4/MyYb5av4hczM6C7t7h8xMfdy45O1L3rj6qU+1dyxghg6sXkuW2h/KFvmr3JrZ2TRJsnkeziPZ\\\n",
              "IufkLXlL49yks3NIvKL0/vuT7bdPnnsuufbaZJ992j0i1lRm6MDqdcop6c7a2SM3Z3Y2zbg8kCSZ\\\n",
              "nY2TJHOzXrlt/K672jnKFbb11slxx5XPZum0k6ADq9fdd+eO7Ph8wIenNxtnVhZnrSRLgt5oJBMn\\\n",
              "tnOU/fKRjyTDhyeXXZbcdFO7R8OaStCB1WvChOzW+FV+md2zSWbl/oxPT4Y//+25Wb/M0KdNa+Mg\\\n",
              "V9CSx+623XlUjl3/oiRm6bSPoAOr17RpSbOZXRszc132yZZ5KE9lo+e/PSdjyjr2YL69p6sr2XTT\\\n",
              "5Igj8vCMWZnfnXz0qRMzLD25+OLk1lvbPUDWRIIOrF5TpybTpyedndmu4+FcOfG9GbvO3Oe/fXN2\\\n",
              "Sx54YPDe6b7kpr48/ni+mndm6zyQfXJdts9v89ackyT51Hv+0OZBsiZylzvQdrdPnJrOu89Pb4Zn\\\n",
              "WHqyMGtlRKM5+O507+pKjj466e7O/rkyV2f/JI0kyUk5LcfnzOyUO9LMsPzq//8knR/8m/aOlzWK\\\n",
              "GTrQdjs/cFnemP9J0kxvhuereffgu9P9pJOSI45Id3dvfpdtckP2StLI2ulOkpyek3N5Dsmbcm6S\\\n",
              "5NMnPj0kj7Rl6BJ0oP0mTMg5OTafyUlJkg/ls7kzOw6eO927upIzzsjiDMv2+V12ye05OJcnSY7N\\\n",
              "f+fUfDxJ8p28LR/OZ5IkF/ROyQ3dLx9yR9oydFlyB9pvyb50M40clktzeQ7NX+WWXH/uA1nrjZPb\\\n",
              "Pbpk/Pg8cP9z2TM35rFskSQZnbmZl/Wya27NLdktX8m789ackzF5JgfmJ7kqB2Z87s292bY8hjfY\\\n",
              "tg+ojhk60H5LbpRrTOrMt9d+TzYa/lRuzW75xC2T2z2y4oEHcnI+syTmzWyQJzMv6yVJZqQz3enI\\\n",
              "e/KVjMkzSZK35b+TJPdlm5ydtwy+7QOqJOjA4DB1anLbbdm8+958/fwNkiSnn15eetJ2zWZ2zu1J\\\n",
              "kh1yZ36fbfM3uSJJ0pvhOS0fLr+u0Ug6OvJ3je9mcsoS+wfy+czKpoNn+4BqCTow6EyZkrzjHWVi\\\n",
              "+7a3JXPmtHEwS/a+uzMqSXJAfpqX5Olcmtfmpbk/w9KTLbPMY2rve1/SbOZ/8tZ05ld5PJvmXflq\\\n",
              "mp8YAgflMKQJOjAoff7z5dWkDzyQnHBCGwdyyilJo5FHsnmSZLM8miQZmedydybk3myT45YssafZ\\\n",
              "TM44IznxxKw9aYd8Z613ZmRjcS7K5Hxn7pR2/Q1YQwg6MCiNHp1897vljPSzz06+9702DeTuu5Nm\\\n",
              "8/mgb55Hnv9WRxZleHqyZ27Mt3J8+clGI/nxj5PbbsukhTfmlP83Mkny/veXf5zAQHGXOzCoffKT\\\n",
              "ZZI8ZkwyY0ay1VareQCTJiUzZ+a65l65KxPzqvxvts89SZLbs1MOy2V5MFtlXB7MXZmYdbIg6ehI\\\n",
              "FixIUl6ruu++yXXXJQcckFxxRTLMVIoBIOjAoLZ4cfLqVyc33JC85jXJlVeu5iD2HfXaaJQl9SVf\\\n",
              "52edbJt78lg2y8T8Jj/KoRmf+5f7iNpvf5vsumsyf37yxS+WbXZoNf9OBAa1kSOTs85K1l03ufrq\\\n",
              "5HOfW80DWObs+XR0lK8jR2adzM9/5H15dX6ea/OKEvNkuW+Ke9nLyh37STlwzhNsDAQzdGBI+MY3\\\n",
              "kne+swT+ppvKSnjbLFmGT7OZ3jQyLEv+b7SjIznnnHKb/h/p7U0OPbQsue+5Z3LNNcmIEat53FTN\\\n",
              "DB0YEt7xjuTww8sS/NFHP79F3R5LXgGbxpKYN8oLWl4s5knZJvjWt8q9ADfemJx22mocL2sEQQeG\\\n",
              "hEYj+frXk802S26/PTn55DYOZnnL8F1dLxrzPuPGJV/6Uvl8yinem05rWXIHhpQf/Sg57LClnw85\\\n",
              "pL3j6a9mMznyyNL/XXYp2wcdHe0eFTUwQweGlEMPXXrQzHHHJbNnt3U4/dZoJF/5SrLppsmvf518\\\n",
              "4hPtHhG1MEMHhpz585M99kjuvLOsfl9wwdJt7KHioouSyZPLuH/+8+RVr2r3iBjqzNCBIWeddcop\\\n",
              "ciNHlqXrM89s94j67/DDywpDs5n83YEPZl7HxuXuee9NZyWZoQND1mc+U26OGz26nOOy3XbtHlH/\\\n",
              "PH3WD7Lj23bPI9kyG+TJPNnYuBR++vSy9AD9YIYODFkf+lA5VnXevOTYztvyXMfoITHL7e5Ozjsv\\\n",
              "Oea9YzIrY5MkT2XDfL15fFmDP/XUNo+QoUjQgSFr+PDkO2+5LOvn6Vw3f9d8fOFHy4EvRxwx6KLe\\\n",
              "21ve7f73f5+MHZu86U3JJXP3S09GZEQWL/2Fzaaj5Fgpgg4MaVv/18n5ct6bJDktH8kOzTvyoXw2\\\n",
              "l33oysyb1+bBJfnNb5KPfSzZdttyFv03v5k880x5ycxHN/167shOeW/+M0lyS/YoM/SJE9s7aIYk\\\n",
              "e+jA0DZqVHq7u7NxZuepbPSCb40YUY5ZPfDA8qazvfdePc98z5pVXvd61lnJzTcv/fn110+OOio5\\\n",
              "9tjywplh3y8vfvl+JmdKLsyOuSN3ZOcVOqQG/pigA0PbknPVn2qOyX3ZOr/Jjrkyf5Or1jok9y4a\\\n",
              "94Jf2tFRHg874IDyY/fdW3ee+oIF5VG0s85KLr886ekpPz9iRHl2/thjk9e/Phk16o9+Y1dXnvzE\\\n",
              "57Px7VenmWF59FuXZuzxr23NoFijCDowtL3I603T1ZV7d52Sq67K8z8effSFv3X99ZP99itxP/DA\\\n",
              "ZOed+/dq1r598bPOKs/Cz5279Ht77lki/qY3JZts8pevteuuya9+lZx7bvLGN674GKCPoANDX1dX\\\n",
              "uTP8rrvK/vO0aX+yZN1sloNorrqqvFP96quTOXNeeJlNNkn233/pEv122y05sKarqxy+fvfdyYQJ\\\n",
              "uf34z+asRw/K2WcnDz209PePH58cc0z50d9t8H/6p/Ku9Pe8J/nyl1fifwPWeIIOrJF6esqz61de\\\n",
              "WSL/i1+UE+iW9dKXJgduf38O+Om/ZIv8IdfkVfl+JufW7Pb8rxkzpsyojz02eeUr+zfDX9aFF5ZH\\\n",
              "z3faqbx8BvpL0AGSLFqU3HDD0uX5664rr2pdnpFZlNeuf02O/db++du/bc2Ndk88kWy8cfn82GPl\\\n",
              "rHfoD0EHWI5nn02uuSa56rWfzbd7js6sbJ7heS5fyPvz5pybjTrmt/yl7JMmJTNmlENnjjqqpZdm\\\n",
              "DeA5dIDlWHfd5OCDk9N2Pit3ZJeslQXpyYjsk+uzUeOpAXlW/DWvKV+vvrrll2YNIOgAf860adko\\\n",
              "T+bwXJwkOS9vKnfYTZvW8j9qv/3KV0FnZVhyB/hLurpywQevzVH3fzbbrPVQ7vneTWlMbf3BL7Nn\\\n",
              "L33EzT46/SXoACtg/vwS2/nzk5tuKu9jHwidneU4+vPPT448cmD+DOpkyR1gBayzTjnpLSk3rQ0U\\\n",
              "++isLEEHWEF9J7idd17ZRh8Igs7KsuQOsIIWLCjL7s8+m1x/fbLXXq3/M5bdR581a8WOjYXEDB1g\\\n",
              "hY0albzhDeXzQC27b7xxsssu5fPPfz4wfwZ1EnSAfuhbdj///PJyloFg2Z2VIegA/XDoocl66yUP\\\n",
              "PliOih0Igs7KEHSAfujoSA4/vHweqGX3ffctX3/967KnDitC0AH6aaCX3TfZpLybPbGPzooTdIB+\\\n",
              "OvjgZP31kz/8obyVbSBYdqe/BB2gn9ZeO5k8uXweqGV3Qae/PIcOsBJ++MPkda9LNt88eeihZFiL\\\n",
              "p0ezZiVjx5bPjz++9F3p8GLM0AFWwkEHJWPGJI88Ut6b3mqbbprstFP5/ItftP761EfQAVbCWmsl\\\n",
              "U5a8cM2yO4OBoAOspL673S+4IOnpaf31BZ3+sIcOsJIWLUo22yx56qkS3f32a+31l91Hnz072Wij\\\n",
              "1l6fupihA6ykgV52t49Ofwg6wCoY6GX3vlm/ZXf+EkEHWAUHHJBsuGFZHh+IU93so7OiBB1gFYwc\\\n",
              "mUydWj6fe27rr983Q58xI3nyydZfn3oIOsAq6lt2nz49ee651l577Nhkxx2TZtO57vx5gg6wivbf\\\n",
              "v9yBPnv2wCyN983Sf/az1l+begg6wCoaMSI54ojyeSDudrePzorwHDpAC1x1VXLggWWm/sgjZW+9\\\n",
              "VR59tJwZ32iUVYANN2zdtamHGTpAC+y7b3lu/Iknkp/+tLXX3myzZIcdyj6659F5MYIO0AKra9nd\\\n",
              "PjovRtABWqTvbveurmTx4tZe2wEz/CX20AFapKcn2XLL5LHHkssuSw49tHXXfuSRZIstyj76E08k\\\n",
              "G2zQumtTBzN0gBYZPjw58sjyudXL7ptvnkycaB+dFyfoAC3Ut+x+4YXlbWytZB+dP0fQAVrola8s\\\n",
              "s+k5c5Kf/KS11/Y8On+OoAO00EAuu/fdGHfrreUfDLAsQQdosb5l9+9/P1m4sHXX3XzzZMIE++gs\\\n",
              "n6ADtNgrXlHuSH/66eSKK1p7bcvuvBhBB2ixYcOSo44qn1u97O7GOF6M59ABBsC115Yb5NZfvzyX\\\n",
              "3tHRmus+/HB51n3YsPI8+kte0prrMvSZoQMMgL33TsaNS555Jrn88tZdd4stkpe9LOntTf73f1t3\\\n",
              "XYY+QQcYAKtj2d0+OssSdIAB0ne3+w9+kCxY0Lrr2kdneQQdYIDstVey1VbJvHnJj37Uuuv2PY9+\\\n",
              "yy3lTnpIBB2oQVdXMmlSMmpU+drV1e4RJSkvUumbpbdy2X3LLZPtt7ePzgsJOjC0dXWl94gjcuiM\\\n",
              "z+Tm7h2TmTPLi8kHSdT7gn7xxcn8+a27rn10/pigA0PbKafkDbk4l+fQ7J0bcmVz/zI1PvXUdo8s\\\n",
              "SbLHHsn48cmzz5ZXqraKoPPHBB0Y2u6+Ox/OaRmZRXkuI3Nwfpxzm0cmd93V7pElGbhl92X30Z95\\\n",
              "pnXXZegSdGBomzAhr25cm5uzWzqyIL0Znjfn3Hxxw0+2e2TP6wv6JZeUmXorjBtnH50XEnRgaJs2\\\n",
              "LWk28/LGHbkzO2S9PJ2kkX96+KR85CPtHlyx227JttuWPfRLL23ddftm6ZbdSQQdGOqmTk2mT086\\\n",
              "OzO+Y1Z+t9PkbLL+wiSNnHZa8nevuS/NzvbeAT9Qy+720VmWs9yB6jz9dNLZmTzwQPnvQ/KjXJzX\\\n",
              "Z2SeKz9x4onJ6aev1jHdemuZqY8alcyalYweverXfPDB8pz78OHJk0+Wc+NZc5mhA9UZMya5445k\\\n",
              "x7XvSZJcnkOzZR7K3KxbfsEZZ6z2mfquu5Y97wULkh/+sDXXfOlLk+22S3p6kmuuac01GboEHajS\\\n",
              "uusmt2T3bJAnkiSPZ2zG5pFcnSUbz6v5sTbL7gw0QQeq1TFx68zMLhmZRUmSBRmd32eb8s02PNbW\\\n",
              "F/RLL03mzm3NNd0YRx9BB+o1bVq2zKO5JK9LkgxLb/bJ9WW6PHHiah9OZ2cyYULS3V0eYWuFvqDf\\\n",
              "fHPr/pHA0CToQL2mTk1OPDEH54q8IRelN8Pzz/l8ms1medxtNRuIZfettiqPxNlHR9CBup1+ejJ9\\\n",
              "ej63w9ezVhbmxzkkF598bTJlSluG0xf0yy5r3Qlv9tFJBB1YE0ydmu3uvCQfPHntJMkHztsn3d3t\\\n",
              "GcouuyQ77JAsXFjek94K9tFJBB1Yg3zsY8kWWyS//33y79t8oS2HzQzEsntf0H/5S/voazJBB9YY\\\n",
              "o0cnnznypiTJqY++K7d079CW1632Bf3yy5M5c1b9eltvnWyzTdlHv/baVb8eQ5OgA2uUo3/699km\\\n",
              "v093RmX33JqtmvflqJyXM064Pz//eetenvLn7Lxz+bFoUeuW3e2jI+jAGqXx27tzTL6bYelJ0psH\\\n",
              "s1UuyFE56ZEPZL/9yvGpkyYl73pX8s1vlgl8T0/rx9HqZXdBx1nuwJpl0qRk5szMbZZjYH+ZPXJj\\\n",
              "9soNYw7KDesemIcf/tPfMnp0ssceyZ57JnvtVb6OG7dqw7jzzmSnnZKRI5PHHks22GDVrnf//cn4\\\n",
              "8eVc9zlzWnNWPEOLoANrlq6usmfeaCTN5tKvXV3JlCn5wx+SG25IbryxfP3lL5N58/70MltssTTu\\\n",
              "e+1Vgr/eev0bSmdnWQH49reT445b9b/aNtsk991X9uYPPnjVr8fQIujAmqerq5zlftdd5cS4adNe\\\n",
              "9Ln0np4ym1428jNnJr29L/x1jUaZcS8b+V12SUaMePFhfPrTycc/nhx2WGvek3788cmZZyYf+Ujy\\\n",
              "r/+66tdjaBF0gH569tnklltK3PtC3/eq1mWNGpXsvnuJe1/ot9qqxD8p/57YYYdkRBbnsbW3zoYT\\\n",
              "Nyn/uJg6daXG9d/v+2WO+9Ie2adxfa59+T+s0rUYegQdoAUeeaSEvW8Wf9NNyz8JbuzYZWbxi36R\\\n",
              "D5z6kvw6L8838/a8vXFmWf6fPr3/Ie7qyn1HfDDb5L6MyOLMyQZZN8+u3LUYkgQdYAD09pYZ+LJL\\\n",
              "9TNmJM89t/xfv1a688pcm+HpSUavl+y9d//+wOuvS+bNy8+ybxZn7bwzX8nXGv9YNupvu22V/z4M\\\n",
              "foIOsJosWJDceusykT/33tzb3GZA/qxheS4XZXJe13Fl+YOpnqADtMukSblnxry8I9/IRpmdqbkw\\\n",
              "jTTKRvu//Vv/rnXyycmDD+a2vDzn5Jj8IePSSG8+u8Xn8oGHPvT8vj31EnSAdvkLj9Ct7LUWN4fn\\\n",
              "hPxnvpZ3JSmH5HzpS+WZd+rlpDiAdpk6tdy01tmZdHSUrysT8z+61siOEflK55fzueNnpNFIvva1\\\n",
              "5NBDk6eeav1fgcHDDB2gYhdfnLz1reVwnAkTkksuSV72snaPioEg6ACVmzEjed3rkgcfLEfMdnUt\\\n",
              "PfudelhyB6hBV1c5p34573jv7Cx31e+5Z1l2P+ig8uIZ6mKGDjDULbkh7ob8dbrTkb1zQ9bOoj85\\\n",
              "VGbBgnI87Lnnlv8+8cRyM/3w4W0aNy0l6ABD3fjx6b3/gayTZ7Mwo/IP+a/8R96fkSMbpdYTJjx/\\\n",
              "DGxvb3LKKeUo+yQ5/PDku9/1drYaCDrAUDdsWOY018/GmZ2elLfBbJff5awck31yw9LH4ZaZsZ9z\\\n",
              "TvL2tycLFya77lpunlvVV8LSXoIOMNQNG5bnmsPSkQXpybIPmzezcR7Pl3JC3pgL0pj0wmNgr7su\\\n",
              "mTw5mTUr2Xzz5KKLkr/+69U9eFrFTXEAQ91WW2VEenJLdssXc0LekAszIouTNDI7m+bNOS8T85t8\\\n",
              "8tdH5re/Xfrb9tmnHEO7yy7l5TL77pucf37b/hasIjN0gKGu75S4ZczNunlPvpIrcmDmZkwWZJ3n\\\n",
              "v7fHHsnRRydvfnOy2WblrXBvfnNy2WXl+5/+dPLRj8ZxsUOMoAPUoKur3Ol2113lHa333//83vm8\\\n",
              "jM73c3jO/qvP5ooZm6Wnp/yWYcOSAw8sB8+84Q3lt3/hC+V7xxyTfOMbydprt++vRP8IOkCNlg38\\\n",
              "xInlLvcpUzJrVnLeecnZZyfXX7/0l3d0JK9/fbLRRuWo2N7e5JWvTC68MNlkk/b9NVhxgg6whrrn\\\n",
              "nnK3+9lnl+73WW+9pLs7Wbw4Gb/Js7lkg2Oz8wOXveDxNwYfQQdYwzWb5T3tZ5+dfO975Qa5Za2V\\\n",
              "hfn3/HPek6+mkeafHFjD4CDoADyvpye5+uoycz//zHmZ27v0xJmT86/5t8a/lLNkl3n8jcFB0AFY\\\n",
              "ru6Ol+T7Cw/Jh3N6Hsq43J+tMi4Plw33BQvaPTz+iKADsHyTJiUzZ6bZbObRjM3meazcOW+GPig5\\\n",
              "WAaA5Zs2LWk202g0lsa82Sw/z6Aj6AAs39Sp5Qa4zs6yzN7ZWR6HmzKl3SNjOSy5A0AFzNABoAKC\\\n",
              "DgAVEHQAqICgA0AFBB0AKiDoAFABQQeACgg6AFRA0AGgAoIOABUQdACogKADQAUEHQAqIOgAUAFB\\\n",
              "B4AKCDoAVEDQAaACgg4AFRB0AKiAoANABQQdACog6ABQAUEHgAoIOgBUQNABoAKCDgAVEHQAqICg\\\n",
              "A0AFBB0AKiDoAFABQQeACgg6AFRA0AGgAoIOABUQdACogKADQAUEHQAqIOgAUAFBB4AKCDoAVEDQ\\\n",
              "AaACgg4AFRB0AKiAoANABQQdACog6ABQAUEHgAoIOgBUQNABoAKCDgAVEHQAqICgA0AFBB0AKiDo\\\n",
              "AFABQQeACgg6AFRA0AGgAoIOABUQdACogKADQAUEHQAqIOgAUAFBB4AKCDoAVEDQAaACgg4AFRB0\\\n",
              "AKiAoANABQQdACog6ABQAUEHgAoIOgBUQNABoAKCDgAVEHQAqICgA0AFBB0AKiDoAFABQQeACgg6\\\n",
              "AFRA0AGgAoIOABUQdACogKADQAUEHQAqIOgAUAFBB4AKCDoAVEDQAaACgg4AFRB0AKiAoANABQQd\\\n",
              "ACog6ABQAUEHgAoIOgBUQNABoAKCDgAVEHQAqICgA0AFBB0AKiDoAFCB/wOhrU/FD+DcQAAAAABJ\\\n",
              "RU5ErkJggg==\\\n",
              "\"\n",
              "\n",
              "\n",
              "    /* set a timeout to make sure all the above elements are created before\n",
              "       the object is initialized. */\n",
              "    setTimeout(function() {\n",
              "        anim9adc046937144cd58b14d83b5050274a = new Animation(frames, img_id, slider_id, 50.0,\n",
              "                                 loop_select_id);\n",
              "    }, 0);\n",
              "  })()\n",
              "</script>\n"
            ]
          },
          "metadata": {},
          "execution_count": 10
        }
      ]
    },
    {
      "cell_type": "code",
      "source": [
        "import numpy as np\n",
        "\n",
        "reference_pose = np.load(\"reference_pose.npy\")\n",
        "live_pose = np.load(\"live_pose.npy\")"
      ],
      "metadata": {
        "id": "ZEp3WLFZGzvv"
      },
      "execution_count": null,
      "outputs": []
    },
    {
      "cell_type": "code",
      "source": [
        "# 왼쪽 무릎 landmark index = 25\n",
        "ref_knees = [frame[25][1] for frame in reference_pose]\n",
        "live_knees = [frame[25][1] for frame in live_pose]\n",
        "\n",
        "lowest_ref_idx = np.argmin(ref_knees)\n",
        "lowest_live_idx = np.argmin(live_knees)\n",
        "\n",
        "ref_frame = reference_pose[lowest_ref_idx]\n",
        "live_frame = live_pose[lowest_live_idx]\n",
        "\n",
        "print(f\"📍 기준자세 프레임 idx: {lowest_ref_idx}, 실시간 프레임 idx: {lowest_live_idx}\")"
      ],
      "metadata": {
        "id": "36Gry62YGmrl"
      },
      "execution_count": null,
      "outputs": []
    },
    {
      "cell_type": "code",
      "source": [
        "import matplotlib.pyplot as plt\n",
        "import matplotlib.animation as animation\n",
        "import numpy as np\n",
        "import mediapipe as mp\n",
        "\n",
        "# 데이터 불러오기\n",
        "reference = np.load(\"reference_pose.npy\")\n",
        "live = np.load(\"live_pose.npy\")\n",
        "\n",
        "# 프레임 수 맞추기 (짧은 쪽에 맞춤)\n",
        "min_frames = min(len(reference), len(live))\n",
        "reference = reference[:min_frames]\n",
        "live = live[:min_frames]\n",
        "\n",
        "# 관절 연결 정보\n",
        "mp_pose = mp.solutions.pose\n",
        "connections = mp_pose.POSE_CONNECTIONS\n",
        "\n",
        "# 시각화 세팅\n",
        "fig, ax = plt.subplots(figsize=(6, 6))\n",
        "\n",
        "def update(frame_idx):\n",
        "    ax.clear()\n",
        "    ax.set_xlim(0, 1)\n",
        "    ax.set_ylim(1, 0)\n",
        "    ax.set_title(f\"Frame {frame_idx}: 🟢 기준 vs 🔵 내 자세\")\n",
        "    ax.axis('off')\n",
        "\n",
        "    ref = reference[frame_idx]\n",
        "    live_f = live[frame_idx]\n",
        "\n",
        "    # 기준 자세 (초록)\n",
        "    xs1 = [pt[0] for pt in ref]\n",
        "    ys1 = [pt[1] for pt in ref]\n",
        "    ax.scatter(xs1, ys1, c='green', s=10)\n",
        "    for s, e in connections:\n",
        "        ax.plot([xs1[s], xs1[e]], [ys1[s], ys1[e]], 'g-', alpha=0.5)\n",
        "\n",
        "    # 내 자세 (파랑)\n",
        "    xs2 = [pt[0] for pt in live_f]\n",
        "    ys2 = [pt[1] for pt in live_f]\n",
        "    ax.scatter(xs2, ys2, c='blue', s=10)\n",
        "    for s, e in connections:\n",
        "        ax.plot([xs2[s], xs2[e]], [ys2[s], ys2[e]], 'b-', alpha=0.5)\n",
        "\n",
        "ani = animation.FuncAnimation(fig, update, frames=min_frames, interval=100)\n",
        "plt.close()\n",
        "\n",
        "from IPython.display import HTML\n",
        "HTML(ani.to_jshtml())"
      ],
      "metadata": {
        "id": "4bNVQJvTHGv9"
      },
      "execution_count": null,
      "outputs": []
    }
  ]
}